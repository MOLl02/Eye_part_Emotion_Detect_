{
 "cells": [
  {
   "cell_type": "code",
   "execution_count": 1,
   "id": "analyzed-tenant",
   "metadata": {},
   "outputs": [],
   "source": [
    "import cv2\n",
    "import dlib\n",
    "import numpy as np\n",
    "import math"
   ]
  },
  {
   "cell_type": "code",
   "execution_count": 2,
   "id": "entitled-theme",
   "metadata": {},
   "outputs": [],
   "source": [
    "detector = dlib.get_frontal_face_detector()\n",
    "predictor = dlib.shape_predictor('shape_predictor_68_face_landmarks.dat')"
   ]
  },
  {
   "cell_type": "code",
   "execution_count": 17,
   "id": "fresh-siemens",
   "metadata": {
    "hide_input": false
   },
   "outputs": [
    {
     "data": {
      "text/plain": [
       "True"
      ]
     },
     "execution_count": 17,
     "metadata": {},
     "output_type": "execute_result"
    }
   ],
   "source": [
    "image = cv2.imread('test_hreso/test_hreso/happy/images (2).jpg')\n",
    "gray = cv2.cvtColor(image, cv2.COLOR_BGR2GRAY)\n",
    "    # Detect the face\n",
    "rects = detector(gray, 1)\n",
    "    # Detect landmarks for each face\n",
    "for rect in rects:\n",
    "    # Get the landmark points\n",
    "    shape = predictor(gray, rect)\n",
    "\t# Convert it to the NumPy Array\n",
    "    shape_np = np.zeros((68, 2), dtype=\"int\")\n",
    "    for i in range(0, 68):\n",
    "        shape_np[i] = (shape.part(i).x, shape.part(i).y)\n",
    "    shape = shape_np\n",
    "    center = np.mean(shape,axis=0,dtype=\"int\") #\n",
    "    # Display the landmarks\n",
    "    for i, (x, y) in enumerate(shape):\n",
    "\t# Draw the circle to mark the keypoint \n",
    "        cv2.circle(image, (x, y), 1, (0, 0, 255), -1)\n",
    "        cv2.line(image,center,(x,y),(0,255,0),1) # Draw the line \n",
    "    #Display the image\n",
    "cv2.imshow('Landmark Detection', image)\n",
    "cv2.waitKey()\n",
    "cv2.imwrite('ImageP/LandmarkF.png',image)"
   ]
  },
  {
   "cell_type": "code",
   "execution_count": 147,
   "id": "mediterranean-reason",
   "metadata": {
    "hide_input": false
   },
   "outputs": [
    {
     "data": {
      "text/plain": [
       "-1"
      ]
     },
     "execution_count": 147,
     "metadata": {},
     "output_type": "execute_result"
    }
   ],
   "source": [
    "image = cv2.imread('FER2013/train/happy/Training_10070997.jpg')\n",
    "gray = cv2.cvtColor(image, cv2.COLOR_BGR2GRAY)\n",
    "    # Detect the face\n",
    "rects = detector(gray, 1)\n",
    "    # Detect landmarks for each face\n",
    "for rect in rects:\n",
    "    # Get the landmark points\n",
    "    shape = predictor(gray, rect)\n",
    "\t# Convert it to the NumPy Array\n",
    "    shape_np = np.zeros((68, 2), dtype=\"int\")\n",
    "    for i in range(0, 68):\n",
    "        shape_np[i] = (shape.part(i).x, shape.part(i).y)\n",
    "    shape = shape_np\n",
    "    center = np.mean(shape,axis=0,dtype=\"int\") #\n",
    "    # Display the landmarks\n",
    "    for i, (x, y) in enumerate(shape):\n",
    "\t# Draw the circle to mark the keypoint \n",
    "        cv2.circle(image, (x, y), 1, (0, 0, 255), -1)\n",
    "        cv2.line(image,center,(x,y),(0,255,0),1) # Draw the line \n",
    "    #Display the image\n",
    "cv2.imshow('Landmark Detection', image)\n",
    "cv2.waitKey()"
   ]
  },
  {
   "cell_type": "code",
   "execution_count": 146,
   "id": "79f126d3",
   "metadata": {},
   "outputs": [
    {
     "data": {
      "text/plain": [
       "array([[ 9, 18],\n",
       "       [ 8, 22],\n",
       "       [ 7, 26],\n",
       "       [ 7, 31],\n",
       "       [ 9, 35],\n",
       "       [12, 39],\n",
       "       [14, 43],\n",
       "       [16, 46],\n",
       "       [19, 48],\n",
       "       [23, 48],\n",
       "       [28, 47],\n",
       "       [34, 45],\n",
       "       [40, 42],\n",
       "       [45, 38],\n",
       "       [47, 32],\n",
       "       [48, 27],\n",
       "       [49, 21],\n",
       "       [ 9, 13],\n",
       "       [10, 11],\n",
       "       [12, 10],\n",
       "       [14, 11],\n",
       "       [17, 12],\n",
       "       [22, 12],\n",
       "       [26, 12],\n",
       "       [30, 12],\n",
       "       [33, 13],\n",
       "       [36, 15],\n",
       "       [19, 18],\n",
       "       [18, 20],\n",
       "       [17, 22],\n",
       "       [16, 24],\n",
       "       [15, 27],\n",
       "       [16, 28],\n",
       "       [17, 28],\n",
       "       [19, 28],\n",
       "       [21, 28],\n",
       "       [11, 18],\n",
       "       [13, 17],\n",
       "       [15, 17],\n",
       "       [17, 19],\n",
       "       [15, 19],\n",
       "       [13, 18],\n",
       "       [25, 19],\n",
       "       [27, 18],\n",
       "       [30, 19],\n",
       "       [32, 20],\n",
       "       [30, 21],\n",
       "       [27, 20],\n",
       "       [14, 34],\n",
       "       [14, 32],\n",
       "       [16, 31],\n",
       "       [17, 32],\n",
       "       [19, 32],\n",
       "       [23, 34],\n",
       "       [28, 36],\n",
       "       [23, 41],\n",
       "       [19, 43],\n",
       "       [17, 42],\n",
       "       [16, 41],\n",
       "       [14, 38],\n",
       "       [15, 34],\n",
       "       [16, 33],\n",
       "       [17, 33],\n",
       "       [19, 33],\n",
       "       [27, 36],\n",
       "       [19, 40],\n",
       "       [18, 40],\n",
       "       [16, 39]])"
      ]
     },
     "execution_count": 146,
     "metadata": {},
     "output_type": "execute_result"
    }
   ],
   "source": [
    "shape"
   ]
  },
  {
   "cell_type": "code",
   "execution_count": 7,
   "id": "played-dealer",
   "metadata": {
    "hide_input": true
   },
   "outputs": [
    {
     "data": {
      "text/plain": [
       "array([[-2, 26],\n",
       "       [ 0, 31],\n",
       "       [ 2, 37],\n",
       "       [ 4, 42],\n",
       "       [ 8, 45],\n",
       "       [14, 47],\n",
       "       [20, 48],\n",
       "       [27, 48],\n",
       "       [32, 48],\n",
       "       [35, 46],\n",
       "       [37, 42],\n",
       "       [38, 38],\n",
       "       [39, 33],\n",
       "       [40, 29],\n",
       "       [40, 24],\n",
       "       [39, 20],\n",
       "       [37, 17],\n",
       "       [ 6, 18],\n",
       "       [ 9, 15],\n",
       "       [13, 14],\n",
       "       [17, 13],\n",
       "       [21, 14],\n",
       "       [29, 12],\n",
       "       [31, 10],\n",
       "       [33,  8],\n",
       "       [36,  9],\n",
       "       [37, 10],\n",
       "       [26, 18],\n",
       "       [28, 21],\n",
       "       [29, 23],\n",
       "       [31, 26],\n",
       "       [25, 30],\n",
       "       [28, 30],\n",
       "       [30, 30],\n",
       "       [32, 29],\n",
       "       [33, 28],\n",
       "       [11, 21],\n",
       "       [14, 19],\n",
       "       [17, 18],\n",
       "       [19, 21],\n",
       "       [17, 22],\n",
       "       [14, 22],\n",
       "       [29, 18],\n",
       "       [31, 15],\n",
       "       [34, 14],\n",
       "       [35, 15],\n",
       "       [34, 17],\n",
       "       [32, 18],\n",
       "       [19, 37],\n",
       "       [24, 34],\n",
       "       [28, 33],\n",
       "       [30, 33],\n",
       "       [32, 32],\n",
       "       [34, 32],\n",
       "       [35, 33],\n",
       "       [35, 36],\n",
       "       [33, 39],\n",
       "       [31, 40],\n",
       "       [28, 40],\n",
       "       [24, 40],\n",
       "       [20, 37],\n",
       "       [28, 34],\n",
       "       [30, 34],\n",
       "       [32, 33],\n",
       "       [34, 33],\n",
       "       [33, 37],\n",
       "       [30, 38],\n",
       "       [28, 38]])"
      ]
     },
     "execution_count": 7,
     "metadata": {},
     "output_type": "execute_result"
    }
   ],
   "source": [
    "shape"
   ]
  },
  {
   "cell_type": "code",
   "execution_count": 15,
   "id": "pursuant-delivery",
   "metadata": {
    "collapsed": true,
    "hide_input": false
   },
   "outputs": [
    {
     "name": "stdout",
     "output_type": "stream",
     "text": [
      "[363.20588235 324.05882353]\n"
     ]
    }
   ],
   "source": [
    "center = np.mean(shape_np,axis=0)\n",
    "print(center)"
   ]
  },
  {
   "cell_type": "code",
   "execution_count": 34,
   "id": "passing-scotland",
   "metadata": {
    "hide_input": true
   },
   "outputs": [],
   "source": [
    "point1_x, point1_y = shape_np[0]-center"
   ]
  },
  {
   "cell_type": "code",
   "execution_count": 21,
   "id": "nominated-realtor",
   "metadata": {
    "hide_input": true
   },
   "outputs": [],
   "source": [
    "magnitude1 = np.linalg.norm(shape_np[0] - center)"
   ]
  },
  {
   "cell_type": "code",
   "execution_count": 35,
   "id": "literary-helmet",
   "metadata": {
    "hide_input": true
   },
   "outputs": [],
   "source": [
    "direction1 = np.arctan2(point1_y,point1_x)"
   ]
  },
  {
   "cell_type": "code",
   "execution_count": 36,
   "id": "thousand-program",
   "metadata": {
    "collapsed": true,
    "hide_input": true
   },
   "outputs": [
    {
     "data": {
      "text/plain": [
       "-2.6709198976009185"
      ]
     },
     "execution_count": 36,
     "metadata": {},
     "output_type": "execute_result"
    }
   ],
   "source": [
    "direction1"
   ]
  },
  {
   "cell_type": "markdown",
   "id": "furnished-functionality",
   "metadata": {},
   "source": [
    "Extract features"
   ]
  },
  {
   "cell_type": "code",
   "execution_count": 3,
   "id": "private-fabric",
   "metadata": {
    "hide_input": true
   },
   "outputs": [],
   "source": [
    "def getfeature (landmark):\n",
    "    feature = np.zeros([68,4])\n",
    "    # Find the center of all landmark points\n",
    "    center = np.mean(landmark,axis=0)\n",
    "    # for each landmark point get the relative position, magnitude and direction\n",
    "    for i in range(0,68):\n",
    "        # Relative position to center\n",
    "        # Question: Use relative or absolute? Because relative can be calculated by magnitude and direction\n",
    "        point_x, point_y = landmark[i] - center\n",
    "        # Magnitude: Euclidean distance\n",
    "        magnitude = np.linalg.norm(landmark[i]-center)\n",
    "        # Angle between the line and horizontal axis\n",
    "        direction = np.arctan2(point_y,point_x)\n",
    "        feature[i] = [point_x,point_y,magnitude,direction]\n",
    "    return feature"
   ]
  },
  {
   "cell_type": "code",
   "execution_count": 4,
   "id": "coupled-kansas",
   "metadata": {
    "collapsed": true,
    "hide_input": true
   },
   "outputs": [
    {
     "ename": "NameError",
     "evalue": "name 'shape_np' is not defined",
     "output_type": "error",
     "traceback": [
      "\u001b[1;31m---------------------------------------------------------------------------\u001b[0m",
      "\u001b[1;31mNameError\u001b[0m                                 Traceback (most recent call last)",
      "\u001b[1;32m<ipython-input-4-3a0b904af669>\u001b[0m in \u001b[0;36m<module>\u001b[1;34m\u001b[0m\n\u001b[1;32m----> 1\u001b[1;33m \u001b[0mfeatures\u001b[0m \u001b[1;33m=\u001b[0m \u001b[0mgetfeature\u001b[0m\u001b[1;33m(\u001b[0m\u001b[0mshape_np\u001b[0m\u001b[1;33m)\u001b[0m\u001b[1;33m\u001b[0m\u001b[1;33m\u001b[0m\u001b[0m\n\u001b[0m",
      "\u001b[1;31mNameError\u001b[0m: name 'shape_np' is not defined"
     ]
    }
   ],
   "source": [
    "features = getfeature(shape_np)"
   ]
  },
  {
   "cell_type": "code",
   "execution_count": 53,
   "id": "structural-sherman",
   "metadata": {
    "collapsed": true,
    "hide_input": true
   },
   "outputs": [
    {
     "data": {
      "text/plain": [
       "array([[-1.65205882e+02, -8.40588235e+01,  1.85361456e+02,\n",
       "        -2.67091990e+00],\n",
       "       [-1.57205882e+02, -4.40588235e+01,  1.63263191e+02,\n",
       "        -2.86834108e+00],\n",
       "       [-1.44205882e+02, -3.05882353e+00,  1.44238320e+02,\n",
       "        -3.12038433e+00],\n",
       "       [-1.32205882e+02,  3.49411765e+01,  1.36745315e+02,\n",
       "         2.88320703e+00],\n",
       "       [-1.16205882e+02,  7.09411765e+01,  1.36148660e+02,\n",
       "         2.59350408e+00],\n",
       "       [-9.12058824e+01,  1.03941176e+02,  1.38283336e+02,\n",
       "         2.29102691e+00],\n",
       "       [-6.02058824e+01,  1.31941176e+02,  1.45028350e+02,\n",
       "         1.99888402e+00],\n",
       "       [-2.42058824e+01,  1.52941176e+02,  1.54844852e+02,\n",
       "         1.72776357e+00],\n",
       "       [ 1.67941176e+01,  1.54941176e+02,  1.55848678e+02,\n",
       "         1.46282755e+00],\n",
       "       [ 5.67941176e+01,  1.45941176e+02,  1.56602678e+02,\n",
       "         1.19967165e+00],\n",
       "       [ 8.97941176e+01,  1.16941176e+02,  1.47438877e+02,\n",
       "         9.15964258e-01],\n",
       "       [ 1.14794118e+02,  8.19411765e+01,  1.41039164e+02,\n",
       "         6.19934342e-01],\n",
       "       [ 1.32794118e+02,  4.29411765e+01,  1.39564402e+02,\n",
       "         3.12753796e-01],\n",
       "       [ 1.42794118e+02, -5.88235294e-02,  1.42794130e+02,\n",
       "        -4.11946424e-04],\n",
       "       [ 1.45794118e+02, -4.10588235e+01,  1.51465348e+02,\n",
       "        -2.74512101e-01],\n",
       "       [ 1.49794118e+02, -8.30588235e+01,  1.71280606e+02,\n",
       "        -5.06281252e-01],\n",
       "       [ 1.47794118e+02, -1.26058824e+02,  1.94252228e+02,\n",
       "        -7.06195704e-01],\n",
       "       [-1.44205882e+02, -9.30588235e+01,  1.71625409e+02,\n",
       "        -2.56851502e+00],\n",
       "       [-1.21205882e+02, -1.04058824e+02,  1.59747002e+02,\n",
       "        -2.43216758e+00],\n",
       "       [-9.32058824e+01, -1.05058824e+02,  1.40444626e+02,\n",
       "        -2.29648215e+00],\n",
       "       [-6.42058824e+01, -9.90588235e+01,  1.18046795e+02,\n",
       "        -2.14587636e+00],\n",
       "       [-3.42058824e+01, -9.20588235e+01,  9.82082959e+01,\n",
       "        -1.92655253e+00],\n",
       "       [ 9.79411765e+00, -9.50588235e+01,  9.55620462e+01,\n",
       "        -1.46812643e+00],\n",
       "       [ 3.57941176e+01, -1.08058824e+02,  1.13832896e+02,\n",
       "        -1.25092501e+00],\n",
       "       [ 6.37941176e+01, -1.21058824e+02,  1.36839059e+02,\n",
       "        -1.08580786e+00],\n",
       "       [ 9.37941176e+01, -1.29058824e+02,  1.59541582e+02,\n",
       "        -9.42338886e-01],\n",
       "       [ 1.22794118e+02, -1.22058824e+02,  1.73137956e+02,\n",
       "        -7.82395169e-01],\n",
       "       [-1.22058824e+01, -7.80588235e+01,  7.90073635e+01,\n",
       "        -1.72590801e+00],\n",
       "       [-1.02058824e+01, -4.90588235e+01,  5.01091628e+01,\n",
       "        -1.77590441e+00],\n",
       "       [-7.20588235e+00, -2.00588235e+01,  2.13138721e+01,\n",
       "        -1.91567676e+00],\n",
       "       [-4.20588235e+00,  9.94117647e+00,  1.07942779e+01,\n",
       "         1.97103698e+00],\n",
       "       [-2.82058824e+01,  2.59411765e+01,  3.83212270e+01,\n",
       "         2.39799522e+00],\n",
       "       [-1.42058824e+01,  2.89411765e+01,  3.22397083e+01,\n",
       "         2.02710013e+00],\n",
       "       [ 1.79411765e+00,  3.19411765e+01,  3.19915241e+01,\n",
       "         1.51468586e+00],\n",
       "       [ 1.67941176e+01,  2.49411765e+01,  3.00683334e+01,\n",
       "         9.78181710e-01],\n",
       "       [ 3.17941176e+01,  1.69411765e+01,  3.60259542e+01,\n",
       "         4.89573136e-01],\n",
       "       [-1.09205882e+02, -7.50588235e+01,  1.32513213e+02,\n",
       "        -2.53943105e+00],\n",
       "       [-9.22058824e+01, -8.40588235e+01,  1.24771033e+02,\n",
       "        -2.40238221e+00],\n",
       "       [-7.12058824e+01, -8.50588235e+01,  1.10929172e+02,\n",
       "        -2.26777515e+00],\n",
       "       [-5.22058824e+01, -7.40588235e+01,  9.06099525e+01,\n",
       "        -2.18481971e+00],\n",
       "       [-7.32058824e+01, -6.70588235e+01,  9.92773238e+01,\n",
       "        -2.39999117e+00],\n",
       "       [-9.22058824e+01, -6.60588235e+01,  1.13427038e+02,\n",
       "        -2.51992644e+00],\n",
       "       [ 3.47941176e+01, -8.30588235e+01,  9.00522004e+01,\n",
       "        -1.17409581e+00],\n",
       "       [ 4.97941176e+01, -9.80588235e+01,  1.09977211e+02,\n",
       "        -1.10092945e+00],\n",
       "       [ 7.07941176e+01, -1.02058824e+02,  1.24208738e+02,\n",
       "        -9.64338121e-01],\n",
       "       [ 9.07941176e+01, -9.80588235e+01,  1.33637961e+02,\n",
       "        -8.23846735e-01],\n",
       "       [ 7.47941176e+01, -8.60588235e+01,  1.14018775e+02,\n",
       "        -8.55315098e-01],\n",
       "       [ 5.47941176e+01, -8.20588235e+01,  9.86714034e+01,\n",
       "        -9.82049676e-01],\n",
       "       [-5.12058824e+01,  7.39411765e+01,  8.99407581e+01,\n",
       "         2.17648577e+00],\n",
       "       [-3.22058824e+01,  6.39411765e+01,  7.15939446e+01,\n",
       "         2.03738348e+00],\n",
       "       [-1.22058824e+01,  5.69411765e+01,  5.82347074e+01,\n",
       "         1.78196021e+00],\n",
       "       [ 6.79411765e+00,  5.99411765e+01,  6.03249921e+01,\n",
       "         1.45793160e+00],\n",
       "       [ 2.17941176e+01,  5.29411765e+01,  5.72516526e+01,\n",
       "         1.18027311e+00],\n",
       "       [ 4.47941176e+01,  5.39411765e+01,  7.01153585e+01,\n",
       "         8.77776723e-01],\n",
       "       [ 6.87941176e+01,  5.89411765e+01,  9.05907992e+01,\n",
       "         7.08414982e-01],\n",
       "       [ 4.97941176e+01,  7.79411765e+01,  9.24893569e+01,\n",
       "         1.00228667e+00],\n",
       "       [ 2.87941176e+01,  8.89411765e+01,  9.34860101e+01,\n",
       "         1.25770141e+00],\n",
       "       [ 1.17941176e+01,  9.29411765e+01,  9.36865171e+01,\n",
       "         1.44457225e+00],\n",
       "       [-7.20588235e+00,  9.29411765e+01,  9.32200999e+01,\n",
       "         1.64817318e+00],\n",
       "       [-2.92058824e+01,  8.79411765e+01,  9.26640927e+01,\n",
       "         1.89144280e+00],\n",
       "       [-4.22058824e+01,  7.49411765e+01,  8.60088160e+01,\n",
       "         2.08370737e+00],\n",
       "       [-1.12058824e+01,  7.09411765e+01,  7.18207652e+01,\n",
       "         1.72746207e+00],\n",
       "       [ 7.79411765e+00,  7.29411765e+01,  7.33564141e+01,\n",
       "         1.46434541e+00],\n",
       "       [ 2.47941176e+01,  6.79411765e+01,  7.23239361e+01,\n",
       "         1.22087877e+00],\n",
       "       [ 5.97941176e+01,  6.19411765e+01,  8.60932393e+01,\n",
       "         8.03033445e-01],\n",
       "       [ 2.57941176e+01,  6.79411765e+01,  7.26728282e+01,\n",
       "         1.20795197e+00],\n",
       "       [ 8.79411765e+00,  7.29411765e+01,  7.34693932e+01,\n",
       "         1.45081094e+00],\n",
       "       [-9.20588235e+00,  7.09411765e+01,  7.15359965e+01,\n",
       "         1.69984301e+00]])"
      ]
     },
     "execution_count": 53,
     "metadata": {},
     "output_type": "execute_result"
    }
   ],
   "source": [
    "features"
   ]
  },
  {
   "cell_type": "code",
   "execution_count": 54,
   "id": "legislative-sheffield",
   "metadata": {
    "hide_input": true
   },
   "outputs": [],
   "source": [
    "# Flatten it to 272 elements vector\n",
    "feature_vector = features.ravel()"
   ]
  },
  {
   "cell_type": "markdown",
   "id": "classical-eugene",
   "metadata": {},
   "source": [
    "### Gain Training set "
   ]
  },
  {
   "cell_type": "code",
   "execution_count": 60,
   "id": "steady-trigger",
   "metadata": {},
   "outputs": [],
   "source": [
    "import zipfile\n",
    "with zipfile.ZipFile('archive.zip', 'r') as zip_ref:\n",
    "    zip_ref.extractall('FER2013')"
   ]
  },
  {
   "cell_type": "code",
   "execution_count": 83,
   "id": "rural-average",
   "metadata": {},
   "outputs": [],
   "source": [
    "import os\n",
    "path = 'FER2013/train/'\n",
    "files = os.listdir(path)  \n",
    "num = len(files)  "
   ]
  },
  {
   "cell_type": "code",
   "execution_count": null,
   "id": "experimental-austria",
   "metadata": {},
   "outputs": [],
   "source": []
  },
  {
   "cell_type": "code",
   "execution_count": 84,
   "id": "social-annual",
   "metadata": {},
   "outputs": [],
   "source": [
    "def getfeature (landmark):\n",
    "    feature = np.zeros([68,4])\n",
    "    # Find the center of all landmark points\n",
    "    center = np.mean(landmark,axis=0)\n",
    "    # for each landmark point get the relative position, magnitude and direction\n",
    "    for i in range(0,68):\n",
    "        # Relative position to center\n",
    "        # Question: Use relative or absolute? Because relative can be calculated by magnitude and direction\n",
    "        point_x, point_y = landmark[i] - center\n",
    "        # Magnitude: Euclidean distance\n",
    "        magnitude = np.linalg.norm(landmark[i]-center)\n",
    "        # Angle between the line and horizontal axis\n",
    "        direction = np.arctan2(point_y,point_x)\n",
    "        feature[i] = [point_x,point_y,magnitude,direction]\n",
    "    feature = feature.ravel()\n",
    "    return feature"
   ]
  },
  {
   "cell_type": "code",
   "execution_count": 5,
   "id": "consistent-banks",
   "metadata": {
    "hide_input": true
   },
   "outputs": [
    {
     "data": {
      "text/plain": [
       "'\\ndef getfeaturevector (path):\\n    global shape_p\\n    image = cv2.imread(path)\\n    gray = cv2.cvtColor(image, cv2.COLOR_BGR2GRAY)\\n    # Detect the face\\n    rects = detector(gray, 1)\\n    # Detect landmarks for each face\\n    for rect in rects:\\n        # Get the landmark points\\n        shape = predictor(gray, rect)\\n        print(1)\\n        # Convert it to the NumPy Array\\n        shape_np = np.zeros((68, 2), dtype=\"int\")\\n        for i in range(0, 68):\\n            shape_np[i] = (shape.part(i).x, shape.part(i).y)\\n        shape_p = shape_np\\n    features = getfeature(shape_p)\\n    # Flatten it to 272 elements vector\\n    feature_vector = features.ravel()\\n    return feature_vector\\n    '"
      ]
     },
     "execution_count": 5,
     "metadata": {},
     "output_type": "execute_result"
    }
   ],
   "source": [
    "'''\n",
    "def getfeaturevector (path):\n",
    "    global shape_p\n",
    "    image = cv2.imread(path)\n",
    "    gray = cv2.cvtColor(image, cv2.COLOR_BGR2GRAY)\n",
    "    # Detect the face\n",
    "    rects = detector(gray, 1)\n",
    "    # Detect landmarks for each face\n",
    "    for rect in rects:\n",
    "        # Get the landmark points\n",
    "        shape = predictor(gray, rect)\n",
    "        print(1)\n",
    "        # Convert it to the NumPy Array\n",
    "        shape_np = np.zeros((68, 2), dtype=\"int\")\n",
    "        for i in range(0, 68):\n",
    "            shape_np[i] = (shape.part(i).x, shape.part(i).y)\n",
    "        shape_p = shape_np\n",
    "    features = getfeature(shape_p)\n",
    "    # Flatten it to 272 elements vector\n",
    "    feature_vector = features.ravel()\n",
    "    return feature_vector\n",
    "    '''"
   ]
  },
  {
   "cell_type": "code",
   "execution_count": 85,
   "id": "modified-membrane",
   "metadata": {},
   "outputs": [
    {
     "data": {
      "text/plain": [
       "'\\n    features = getfeature(shape)\\n    # Flatten it to 272 elements vector\\n    feature_vector = features.ravel()\\n    return feature_vector\\n    '"
      ]
     },
     "execution_count": 85,
     "metadata": {},
     "output_type": "execute_result"
    }
   ],
   "source": [
    "def getfeaturevector (path):\n",
    "    global shape_np\n",
    "    image = cv2.imread(path)\n",
    "    gray = cv2.cvtColor(image, cv2.COLOR_BGR2GRAY)\n",
    "    # Detect the face\n",
    "    rects = detector(gray, 1)\n",
    "    # Detect landmarks for each face\n",
    "    for rect in rects:\n",
    "        # Get the landmark points\n",
    "        shape = predictor(gray, rect)\n",
    "\t# Convert it to the NumPy Array\n",
    "        shape_np = np.zeros((68, 2), dtype=\"int\")\n",
    "        for i in range(0, 68):\n",
    "            shape_np[i] = (shape.part(i).x, shape.part(i).y)\n",
    "    return shape_np\n",
    "'''\n",
    "    features = getfeature(shape)\n",
    "    # Flatten it to 272 elements vector\n",
    "    feature_vector = features.ravel()\n",
    "    return feature_vector\n",
    "    '''"
   ]
  },
  {
   "cell_type": "code",
   "execution_count": 86,
   "id": "square-clinton",
   "metadata": {},
   "outputs": [],
   "source": [
    "num_catrgories = np.zeros(num)"
   ]
  },
  {
   "cell_type": "code",
   "execution_count": 87,
   "id": "excellent-childhood",
   "metadata": {},
   "outputs": [],
   "source": [
    "labels = []"
   ]
  },
  {
   "cell_type": "code",
   "execution_count": 88,
   "id": "contemporary-symphony",
   "metadata": {},
   "outputs": [],
   "source": [
    "icategory = 0\n",
    "# Gain name of categories and number of instances in each class\n",
    "for file in os.listdir(path):\n",
    "    # Get folders of each categories\n",
    "    subfolder = os.path.join(path, file)\n",
    "    files = os.listdir(subfolder)  \n",
    "    num_catrgories[icategory] = len(files)\n",
    "    labels.append(file)\n",
    "    icategory += 1"
   ]
  },
  {
   "cell_type": "code",
   "execution_count": 89,
   "id": "inner-gabriel",
   "metadata": {},
   "outputs": [
    {
     "name": "stdout",
     "output_type": "stream",
     "text": [
      "[3995  436 4097 7215 4965 4830 3171]\n"
     ]
    }
   ],
   "source": [
    "num_catrgories = num_catrgories.astype(int)\n",
    "print(num_catrgories)"
   ]
  },
  {
   "cell_type": "code",
   "execution_count": 90,
   "id": "departmental-birthday",
   "metadata": {},
   "outputs": [
    {
     "data": {
      "text/plain": [
       "['angry', 'disgust', 'fear', 'happy', 'neutral', 'sad', 'surprise']"
      ]
     },
     "execution_count": 90,
     "metadata": {},
     "output_type": "execute_result"
    }
   ],
   "source": [
    "labels"
   ]
  },
  {
   "cell_type": "code",
   "execution_count": 92,
   "id": "accredited-prison",
   "metadata": {},
   "outputs": [],
   "source": [
    "train_size= np.sum(num_catrgories).astype(int)"
   ]
  },
  {
   "cell_type": "code",
   "execution_count": 93,
   "id": "corresponding-jesus",
   "metadata": {},
   "outputs": [],
   "source": [
    "X_train = np.zeros([train_size,272]) # 68*4 =272"
   ]
  },
  {
   "cell_type": "code",
   "execution_count": 102,
   "id": "valuable-treaty",
   "metadata": {},
   "outputs": [],
   "source": [
    "Train_i = 0\n",
    "for file in os.listdir(path):\n",
    "    subfolder = os.path.join(path, file)\n",
    "    for fileI in os.listdir(subfolder):\n",
    "        train_img = os.path.join(subfolder,fileI)\n",
    "        X_train[Train_i] = getfeaturevector(train_img)\n",
    "        Train_i += 1"
   ]
  },
  {
   "cell_type": "code",
   "execution_count": 107,
   "id": "agricultural-shade",
   "metadata": {},
   "outputs": [],
   "source": [
    "from numpy import savetxt\n",
    "savetxt('X_train.csv',X_train,delimiter=',')"
   ]
  },
  {
   "cell_type": "code",
   "execution_count": 94,
   "id": "ruled-patrol",
   "metadata": {},
   "outputs": [],
   "source": [
    "Y_train = []\n",
    "classnum = 0\n",
    "for label in labels:\n",
    "    for num_instances in range(0,num_catrgories[classnum]):\n",
    "        Y_train.append(label)\n",
    "    classnum += 1"
   ]
  },
  {
   "cell_type": "code",
   "execution_count": 95,
   "id": "considered-tissue",
   "metadata": {},
   "outputs": [
    {
     "data": {
      "text/plain": [
       "28709"
      ]
     },
     "execution_count": 95,
     "metadata": {},
     "output_type": "execute_result"
    }
   ],
   "source": [
    "len(Y_train)"
   ]
  },
  {
   "cell_type": "code",
   "execution_count": 96,
   "id": "increasing-canal",
   "metadata": {},
   "outputs": [],
   "source": [
    "# load numpy array from csv file\n",
    "from numpy import loadtxt\n",
    "# load array\n",
    "X_train = loadtxt('X_train.csv', delimiter=',')\n",
    "# print the array"
   ]
  },
  {
   "cell_type": "code",
   "execution_count": 97,
   "id": "enclosed-database",
   "metadata": {},
   "outputs": [
    {
     "data": {
      "text/plain": [
       "(28709, 272)"
      ]
     },
     "execution_count": 97,
     "metadata": {},
     "output_type": "execute_result"
    }
   ],
   "source": [
    "X_train.shape"
   ]
  },
  {
   "cell_type": "markdown",
   "id": "severe-desert",
   "metadata": {},
   "source": [
    "### Get testing set"
   ]
  },
  {
   "cell_type": "code",
   "execution_count": 98,
   "id": "imported-server",
   "metadata": {},
   "outputs": [],
   "source": [
    "import os\n",
    "path = 'FER2013/test/'\n",
    "files = os.listdir(path)  \n",
    "num = len(files)  "
   ]
  },
  {
   "cell_type": "code",
   "execution_count": 99,
   "id": "incredible-contract",
   "metadata": {},
   "outputs": [],
   "source": [
    "num_catrgories = np.zeros(num)\n",
    "labels = []"
   ]
  },
  {
   "cell_type": "code",
   "execution_count": 100,
   "id": "satisfied-hypothetical",
   "metadata": {},
   "outputs": [],
   "source": [
    "icategory = 0\n",
    "# Gain name of categories and number of instances in each class\n",
    "for file in os.listdir(path):\n",
    "    # Get folders of each categories\n",
    "    subfolder = os.path.join(path, file)\n",
    "    files = os.listdir(subfolder)  \n",
    "    num_catrgories[icategory] = len(files)\n",
    "    labels.append(file)\n",
    "    icategory += 1\n",
    "num_catrgories = num_catrgories.astype(int)"
   ]
  },
  {
   "cell_type": "code",
   "execution_count": null,
   "id": "amended-appliance",
   "metadata": {},
   "outputs": [],
   "source": []
  },
  {
   "cell_type": "code",
   "execution_count": 17,
   "id": "engaged-nutrition",
   "metadata": {},
   "outputs": [],
   "source": [
    "test_size= np.sum(num_catrgories).astype(int)"
   ]
  },
  {
   "cell_type": "code",
   "execution_count": 41,
   "id": "painted-national",
   "metadata": {},
   "outputs": [],
   "source": [
    "X_test = np.zeros([test_size,272])"
   ]
  },
  {
   "cell_type": "code",
   "execution_count": 87,
   "id": "alpha-armenia",
   "metadata": {},
   "outputs": [],
   "source": [
    "Test_i = 0\n",
    "for file in os.listdir(path):\n",
    "    subfolder = os.path.join(path, file)\n",
    "    for fileI in os.listdir(subfolder):\n",
    "        test_img = os.path.join(subfolder,fileI)\n",
    "        img_landmark = getfeaturevector(test_img)\n",
    "        X_test[Test_i] = getfeature(img_landmark)\n",
    "        Test_i += 1"
   ]
  },
  {
   "cell_type": "code",
   "execution_count": null,
   "id": "indirect-australian",
   "metadata": {},
   "outputs": [],
   "source": []
  },
  {
   "cell_type": "code",
   "execution_count": 93,
   "id": "average-platinum",
   "metadata": {},
   "outputs": [],
   "source": [
    "from numpy import savetxt\n",
    "savetxt('X_test.csv',X_test,delimiter=',')"
   ]
  },
  {
   "cell_type": "code",
   "execution_count": 101,
   "id": "commercial-poverty",
   "metadata": {},
   "outputs": [],
   "source": [
    "# load numpy array from csv file\n",
    "from numpy import loadtxt\n",
    "# load array\n",
    "X_test = loadtxt('X_test.csv', delimiter=',')\n",
    "# print the array"
   ]
  },
  {
   "cell_type": "code",
   "execution_count": 102,
   "id": "genetic-correspondence",
   "metadata": {},
   "outputs": [],
   "source": [
    "Y_test = []\n",
    "classnum = 0\n",
    "for label in labels:\n",
    "    for num_instances in range(0,num_catrgories[classnum]):\n",
    "        Y_test.append(label)\n",
    "    classnum += 1"
   ]
  },
  {
   "cell_type": "code",
   "execution_count": 103,
   "id": "former-homework",
   "metadata": {},
   "outputs": [
    {
     "data": {
      "text/plain": [
       "7178"
      ]
     },
     "execution_count": 103,
     "metadata": {},
     "output_type": "execute_result"
    }
   ],
   "source": [
    "len(Y_test)"
   ]
  },
  {
   "cell_type": "markdown",
   "id": "sorted-tunisia",
   "metadata": {},
   "source": [
    "Use SVC"
   ]
  },
  {
   "cell_type": "markdown",
   "id": "residential-peninsula",
   "metadata": {},
   "source": [
    "### SVC1: RBF kernel "
   ]
  },
  {
   "cell_type": "code",
   "execution_count": 139,
   "id": "enabling-tennessee",
   "metadata": {},
   "outputs": [],
   "source": [
    "from sklearn import svm\n",
    "from sklearn import metrics"
   ]
  },
  {
   "cell_type": "code",
   "execution_count": 140,
   "id": "a5f332a9",
   "metadata": {},
   "outputs": [],
   "source": [
    "from sklearn.metrics import plot_confusion_matrix\n",
    "import matplotlib.pyplot as plt"
   ]
  },
  {
   "cell_type": "code",
   "execution_count": 19,
   "id": "designing-reply",
   "metadata": {},
   "outputs": [
    {
     "data": {
      "text/plain": [
       "SVC()"
      ]
     },
     "execution_count": 19,
     "metadata": {},
     "output_type": "execute_result"
    }
   ],
   "source": [
    "#Create a svm Classifier\n",
    "clf = svm.SVC(kernel='rbf') # Linear Kernel\n",
    "\n",
    "#Train the model using the training sets\n",
    "clf.fit(X_train, Y_train)"
   ]
  },
  {
   "cell_type": "code",
   "execution_count": 20,
   "id": "alive-coordinate",
   "metadata": {},
   "outputs": [
    {
     "data": {
      "text/plain": [
       "0.5048939356996064"
      ]
     },
     "execution_count": 20,
     "metadata": {},
     "output_type": "execute_result"
    }
   ],
   "source": [
    "clf.score(X_train,Y_train)"
   ]
  },
  {
   "cell_type": "code",
   "execution_count": 95,
   "id": "manufactured-investing",
   "metadata": {},
   "outputs": [],
   "source": [
    "y_pred = clf.predict(X_test)"
   ]
  },
  {
   "cell_type": "code",
   "execution_count": 96,
   "id": "hungry-anaheim",
   "metadata": {},
   "outputs": [
    {
     "name": "stdout",
     "output_type": "stream",
     "text": [
      "Accuracy: 0.49526330454165507\n"
     ]
    }
   ],
   "source": [
    "\n",
    "\n",
    "# Model Accuracy: how often is the classifier correct?\n",
    "print(\"Accuracy:\",metrics.accuracy_score(Y_test, y_pred))"
   ]
  },
  {
   "cell_type": "code",
   "execution_count": 99,
   "id": "compound-proportion",
   "metadata": {},
   "outputs": [
    {
     "data": {
      "image/png": "[encoded data removed]",
      "text/plain": [
       "<Figure size 432x288 with 2 Axes>"
      ]
     },
     "metadata": {
      "needs_background": "light"
     },
     "output_type": "display_data"
    }
   ],
   "source": [
    "\n",
    "plot_confusion_matrix(clf, X_train,Y_train)  \n",
    "plt.show()"
   ]
  },
  {
   "cell_type": "code",
   "execution_count": 100,
   "id": "general-estate",
   "metadata": {},
   "outputs": [
    {
     "data": {
      "image/png": "[encoded data removed]",
      "text/plain": [
       "<Figure size 432x288 with 2 Axes>"
      ]
     },
     "metadata": {
      "needs_background": "light"
     },
     "output_type": "display_data"
    }
   ],
   "source": [
    "plot_confusion_matrix(clf, X_test,Y_test)  \n",
    "plt.show()"
   ]
  },
  {
   "cell_type": "markdown",
   "id": "accredited-accordance",
   "metadata": {},
   "source": [
    "### SVC2: Poly Kernel"
   ]
  },
  {
   "cell_type": "code",
   "execution_count": 141,
   "id": "coordinate-tenant",
   "metadata": {},
   "outputs": [
    {
     "data": {
      "text/html": [
       "<style>#sk-container-id-2 {color: black;background-color: white;}#sk-container-id-2 pre{padding: 0;}#sk-container-id-2 div.sk-toggleable {background-color: white;}#sk-container-id-2 label.sk-toggleable__label {cursor: pointer;display: block;width: 100%;margin-bottom: 0;padding: 0.3em;box-sizing: border-box;text-align: center;}#sk-container-id-2 label.sk-toggleable__label-arrow:before {content: \"▸\";float: left;margin-right: 0.25em;color: #696969;}#sk-container-id-2 label.sk-toggleable__label-arrow:hover:before {color: black;}#sk-container-id-2 div.sk-estimator:hover label.sk-toggleable__label-arrow:before {color: black;}#sk-container-id-2 div.sk-toggleable__content {max-height: 0;max-width: 0;overflow: hidden;text-align: left;background-color: #f0f8ff;}#sk-container-id-2 div.sk-toggleable__content pre {margin: 0.2em;color: black;border-radius: 0.25em;background-color: #f0f8ff;}#sk-container-id-2 input.sk-toggleable__control:checked~div.sk-toggleable__content {max-height: 200px;max-width: 100%;overflow: auto;}#sk-container-id-2 input.sk-toggleable__control:checked~label.sk-toggleable__label-arrow:before {content: \"▾\";}#sk-container-id-2 div.sk-estimator input.sk-toggleable__control:checked~label.sk-toggleable__label {background-color: #d4ebff;}#sk-container-id-2 div.sk-label input.sk-toggleable__control:checked~label.sk-toggleable__label {background-color: #d4ebff;}#sk-container-id-2 input.sk-hidden--visually {border: 0;clip: rect(1px 1px 1px 1px);clip: rect(1px, 1px, 1px, 1px);height: 1px;margin: -1px;overflow: hidden;padding: 0;position: absolute;width: 1px;}#sk-container-id-2 div.sk-estimator {font-family: monospace;background-color: #f0f8ff;border: 1px dotted black;border-radius: 0.25em;box-sizing: border-box;margin-bottom: 0.5em;}#sk-container-id-2 div.sk-estimator:hover {background-color: #d4ebff;}#sk-container-id-2 div.sk-parallel-item::after {content: \"\";width: 100%;border-bottom: 1px solid gray;flex-grow: 1;}#sk-container-id-2 div.sk-label:hover label.sk-toggleable__label {background-color: #d4ebff;}#sk-container-id-2 div.sk-serial::before {content: \"\";position: absolute;border-left: 1px solid gray;box-sizing: border-box;top: 0;bottom: 0;left: 50%;z-index: 0;}#sk-container-id-2 div.sk-serial {display: flex;flex-direction: column;align-items: center;background-color: white;padding-right: 0.2em;padding-left: 0.2em;position: relative;}#sk-container-id-2 div.sk-item {position: relative;z-index: 1;}#sk-container-id-2 div.sk-parallel {display: flex;align-items: stretch;justify-content: center;background-color: white;position: relative;}#sk-container-id-2 div.sk-item::before, #sk-container-id-2 div.sk-parallel-item::before {content: \"\";position: absolute;border-left: 1px solid gray;box-sizing: border-box;top: 0;bottom: 0;left: 50%;z-index: -1;}#sk-container-id-2 div.sk-parallel-item {display: flex;flex-direction: column;z-index: 1;position: relative;background-color: white;}#sk-container-id-2 div.sk-parallel-item:first-child::after {align-self: flex-end;width: 50%;}#sk-container-id-2 div.sk-parallel-item:last-child::after {align-self: flex-start;width: 50%;}#sk-container-id-2 div.sk-parallel-item:only-child::after {width: 0;}#sk-container-id-2 div.sk-dashed-wrapped {border: 1px dashed gray;margin: 0 0.4em 0.5em 0.4em;box-sizing: border-box;padding-bottom: 0.4em;background-color: white;}#sk-container-id-2 div.sk-label label {font-family: monospace;font-weight: bold;display: inline-block;line-height: 1.2em;}#sk-container-id-2 div.sk-label-container {text-align: center;}#sk-container-id-2 div.sk-container {/* jupyter's `normalize.less` sets `[hidden] { display: none; }` but bootstrap.min.css set `[hidden] { display: none !important; }` so we also need the `!important` here to be able to override the default hidden behavior on the sphinx rendered scikit-learn.org. See: https://github.com/scikit-learn/scikit-learn/issues/21755 */display: inline-block !important;position: relative;}#sk-container-id-2 div.sk-text-repr-fallback {display: none;}</style><div id=\"sk-container-id-2\" class=\"sk-top-container\"><div class=\"sk-text-repr-fallback\"><pre>SVC(kernel=&#x27;poly&#x27;)</pre><b>In a Jupyter environment, please rerun this cell to show the HTML representation or trust the notebook. <br />On GitHub, the HTML representation is unable to render, please try loading this page with nbviewer.org.</b></div><div class=\"sk-container\" hidden><div class=\"sk-item\"><div class=\"sk-estimator sk-toggleable\"><input class=\"sk-toggleable__control sk-hidden--visually\" id=\"sk-estimator-id-2\" type=\"checkbox\" checked><label for=\"sk-estimator-id-2\" class=\"sk-toggleable__label sk-toggleable__label-arrow\">SVC</label><div class=\"sk-toggleable__content\"><pre>SVC(kernel=&#x27;poly&#x27;)</pre></div></div></div></div></div>"
      ],
      "text/plain": [
       "SVC(kernel='poly')"
      ]
     },
     "execution_count": 141,
     "metadata": {},
     "output_type": "execute_result"
    }
   ],
   "source": [
    "#Create a svm Classifier\n",
    "clfsP = svm.SVC(kernel='poly') \n",
    "\n",
    "#Train the model using the training sets\n",
    "clfsP.fit(X_train, Y_train)"
   ]
  },
  {
   "cell_type": "code",
   "execution_count": 22,
   "id": "wanted-multiple",
   "metadata": {},
   "outputs": [
    {
     "data": {
      "text/plain": [
       "0.5101884426486467"
      ]
     },
     "execution_count": 22,
     "metadata": {},
     "output_type": "execute_result"
    }
   ],
   "source": [
    "clfsP.score(X_train,Y_train)"
   ]
  },
  {
   "cell_type": "code",
   "execution_count": 23,
   "id": "identified-compatibility",
   "metadata": {},
   "outputs": [
    {
     "data": {
      "text/plain": [
       "0.5022290331568682"
      ]
     },
     "execution_count": 23,
     "metadata": {},
     "output_type": "execute_result"
    }
   ],
   "source": [
    "clfsP.score(X_test,Y_test)"
   ]
  },
  {
   "cell_type": "code",
   "execution_count": 24,
   "id": "imperial-biodiversity",
   "metadata": {},
   "outputs": [
    {
     "name": "stderr",
     "output_type": "stream",
     "text": [
      "D:\\Anaconda\\lib\\site-packages\\sklearn\\utils\\deprecation.py:87: FutureWarning: Function plot_confusion_matrix is deprecated; Function `plot_confusion_matrix` is deprecated in 1.0 and will be removed in 1.2. Use one of the class methods: ConfusionMatrixDisplay.from_predictions or ConfusionMatrixDisplay.from_estimator.\n",
      "  warnings.warn(msg, category=FutureWarning)\n"
     ]
    },
    {
     "data": {
      "image/png": "[encoded data removed]",
      "text/plain": [
       "<Figure size 640x480 with 2 Axes>"
      ]
     },
     "metadata": {},
     "output_type": "display_data"
    }
   ],
   "source": [
    "plot_confusion_matrix(clfsP, X_train,Y_train)  \n",
    "plt.show()"
   ]
  },
  {
   "cell_type": "code",
   "execution_count": 25,
   "id": "1002679a",
   "metadata": {},
   "outputs": [
    {
     "name": "stderr",
     "output_type": "stream",
     "text": [
      "D:\\Anaconda\\lib\\site-packages\\sklearn\\utils\\deprecation.py:87: FutureWarning: Function plot_confusion_matrix is deprecated; Function `plot_confusion_matrix` is deprecated in 1.0 and will be removed in 1.2. Use one of the class methods: ConfusionMatrixDisplay.from_predictions or ConfusionMatrixDisplay.from_estimator.\n",
      "  warnings.warn(msg, category=FutureWarning)\n"
     ]
    },
    {
     "data": {
      "image/png": "[encoded data removed]",
      "text/plain": [
       "<Figure size 640x480 with 2 Axes>"
      ]
     },
     "metadata": {},
     "output_type": "display_data"
    }
   ],
   "source": [
    "plot_confusion_matrix(clfsP, X_test,Y_test)  \n",
    "plt.show()"
   ]
  },
  {
   "cell_type": "markdown",
   "id": "affected-prior",
   "metadata": {},
   "source": [
    "### Logistic "
   ]
  },
  {
   "cell_type": "code",
   "execution_count": 23,
   "id": "former-diary",
   "metadata": {},
   "outputs": [
    {
     "name": "stderr",
     "output_type": "stream",
     "text": [
      "D:\\Anaconda\\lib\\site-packages\\sklearn\\linear_model\\_logistic.py:763: ConvergenceWarning: lbfgs failed to converge (status=1):\n",
      "STOP: TOTAL NO. of ITERATIONS REACHED LIMIT.\n",
      "\n",
      "Increase the number of iterations (max_iter) or scale the data as shown in:\n",
      "    https://scikit-learn.org/stable/modules/preprocessing.html\n",
      "Please also refer to the documentation for alternative solver options:\n",
      "    https://scikit-learn.org/stable/modules/linear_model.html#logistic-regression\n",
      "  n_iter_i = _check_optimize_result(\n"
     ]
    }
   ],
   "source": [
    "from sklearn.linear_model import LogisticRegression\n",
    "clfL1 = LogisticRegression(random_state=0).fit(X_train, Y_train)"
   ]
  },
  {
   "cell_type": "code",
   "execution_count": 24,
   "id": "basic-philosophy",
   "metadata": {},
   "outputs": [
    {
     "data": {
      "text/plain": [
       "0.5043714514612142"
      ]
     },
     "execution_count": 24,
     "metadata": {},
     "output_type": "execute_result"
    }
   ],
   "source": [
    "clfL1.score(X_train,Y_train)"
   ]
  },
  {
   "cell_type": "code",
   "execution_count": 25,
   "id": "intense-going",
   "metadata": {},
   "outputs": [
    {
     "data": {
      "text/plain": [
       "0.5101699637782112"
      ]
     },
     "execution_count": 25,
     "metadata": {},
     "output_type": "execute_result"
    }
   ],
   "source": [
    "clfL1.score(X_test,Y_test)"
   ]
  },
  {
   "cell_type": "code",
   "execution_count": null,
   "id": "computational-machinery",
   "metadata": {},
   "outputs": [],
   "source": [
    "# None penalty"
   ]
  },
  {
   "cell_type": "code",
   "execution_count": 28,
   "id": "adapted-offering",
   "metadata": {},
   "outputs": [
    {
     "name": "stderr",
     "output_type": "stream",
     "text": [
      "D:\\Anaconda\\lib\\site-packages\\sklearn\\linear_model\\_logistic.py:763: ConvergenceWarning: lbfgs failed to converge (status=1):\n",
      "STOP: TOTAL NO. of ITERATIONS REACHED LIMIT.\n",
      "\n",
      "Increase the number of iterations (max_iter) or scale the data as shown in:\n",
      "    https://scikit-learn.org/stable/modules/preprocessing.html\n",
      "Please also refer to the documentation for alternative solver options:\n",
      "    https://scikit-learn.org/stable/modules/linear_model.html#logistic-regression\n",
      "  n_iter_i = _check_optimize_result(\n"
     ]
    }
   ],
   "source": [
    "from sklearn.linear_model import LogisticRegression\n",
    "clfL2 = LogisticRegression(penalty='none',random_state=0).fit(X_train, Y_train)"
   ]
  },
  {
   "cell_type": "code",
   "execution_count": 29,
   "id": "behind-stake",
   "metadata": {},
   "outputs": [
    {
     "data": {
      "text/plain": [
       "0.5037444703751437"
      ]
     },
     "execution_count": 29,
     "metadata": {},
     "output_type": "execute_result"
    }
   ],
   "source": [
    "clfL2.score(X_train,Y_train)"
   ]
  },
  {
   "cell_type": "code",
   "execution_count": 31,
   "id": "supreme-census",
   "metadata": {},
   "outputs": [
    {
     "data": {
      "text/plain": [
       "0.5093340763443857"
      ]
     },
     "execution_count": 31,
     "metadata": {},
     "output_type": "execute_result"
    }
   ],
   "source": [
    "clfL2.score(X_test,Y_test)"
   ]
  },
  {
   "cell_type": "markdown",
   "id": "golden-seeker",
   "metadata": {},
   "source": [
    "## Best "
   ]
  },
  {
   "cell_type": "code",
   "execution_count": 104,
   "id": "organizational-implement",
   "metadata": {},
   "outputs": [
    {
     "name": "stderr",
     "output_type": "stream",
     "text": [
      "D:\\Anaconda\\lib\\site-packages\\sklearn\\utils\\optimize.py:210: ConvergenceWarning: newton-cg failed to converge. Increase the number of iterations.\n",
      "  warnings.warn(\n"
     ]
    }
   ],
   "source": [
    "from sklearn.linear_model import LogisticRegression\n",
    "clfL3 = LogisticRegression(solver='newton-cg',random_state=0).fit(X_train, Y_train)"
   ]
  },
  {
   "cell_type": "code",
   "execution_count": 27,
   "id": "impossible-width",
   "metadata": {},
   "outputs": [
    {
     "data": {
      "text/plain": [
       "0.5572816886690585"
      ]
     },
     "execution_count": 27,
     "metadata": {},
     "output_type": "execute_result"
    }
   ],
   "source": [
    "clfL3.score(X_train,Y_train)"
   ]
  },
  {
   "cell_type": "code",
   "execution_count": 28,
   "id": "attempted-fifty",
   "metadata": {},
   "outputs": [
    {
     "data": {
      "text/plain": [
       "0.527027027027027"
      ]
     },
     "execution_count": 28,
     "metadata": {},
     "output_type": "execute_result"
    }
   ],
   "source": [
    "clfL3.score(X_test,Y_test)"
   ]
  },
  {
   "cell_type": "code",
   "execution_count": 29,
   "id": "e55ac6be",
   "metadata": {},
   "outputs": [
    {
     "name": "stderr",
     "output_type": "stream",
     "text": [
      "D:\\Anaconda\\lib\\site-packages\\sklearn\\utils\\deprecation.py:87: FutureWarning: Function plot_confusion_matrix is deprecated; Function `plot_confusion_matrix` is deprecated in 1.0 and will be removed in 1.2. Use one of the class methods: ConfusionMatrixDisplay.from_predictions or ConfusionMatrixDisplay.from_estimator.\n",
      "  warnings.warn(msg, category=FutureWarning)\n"
     ]
    },
    {
     "data": {
      "image/png": "[encoded data removed]",
      "text/plain": [
       "<Figure size 640x480 with 2 Axes>"
      ]
     },
     "metadata": {},
     "output_type": "display_data"
    }
   ],
   "source": [
    "plot_confusion_matrix(clfL3, X_train,Y_train)  \n",
    "plt.show()"
   ]
  },
  {
   "cell_type": "code",
   "execution_count": 30,
   "id": "4963f479",
   "metadata": {},
   "outputs": [
    {
     "name": "stderr",
     "output_type": "stream",
     "text": [
      "D:\\Anaconda\\lib\\site-packages\\sklearn\\utils\\deprecation.py:87: FutureWarning: Function plot_confusion_matrix is deprecated; Function `plot_confusion_matrix` is deprecated in 1.0 and will be removed in 1.2. Use one of the class methods: ConfusionMatrixDisplay.from_predictions or ConfusionMatrixDisplay.from_estimator.\n",
      "  warnings.warn(msg, category=FutureWarning)\n"
     ]
    },
    {
     "data": {
      "image/png": "[encoded data removed]",
      "text/plain": [
       "<Figure size 640x480 with 2 Axes>"
      ]
     },
     "metadata": {},
     "output_type": "display_data"
    }
   ],
   "source": [
    "plot_confusion_matrix(clfL3, X_test,Y_test)  \n",
    "plt.show()"
   ]
  },
  {
   "cell_type": "code",
   "execution_count": 36,
   "id": "unknown-assumption",
   "metadata": {},
   "outputs": [
    {
     "name": "stderr",
     "output_type": "stream",
     "text": [
      "D:\\Anaconda\\lib\\site-packages\\sklearn\\linear_model\\_sag.py:328: ConvergenceWarning: The max_iter was reached which means the coef_ did not converge\n",
      "  warnings.warn(\"The max_iter was reached which means \"\n"
     ]
    }
   ],
   "source": [
    "clfL4 = LogisticRegression(solver='saga',random_state=0).fit(X_train, Y_train)"
   ]
  },
  {
   "cell_type": "code",
   "execution_count": 37,
   "id": "congressional-martin",
   "metadata": {},
   "outputs": [
    {
     "data": {
      "text/plain": [
       "0.5136020063394754"
      ]
     },
     "execution_count": 37,
     "metadata": {},
     "output_type": "execute_result"
    }
   ],
   "source": [
    "clfL4.score(X_train,Y_train)"
   ]
  },
  {
   "cell_type": "code",
   "execution_count": 38,
   "id": "democratic-robinson",
   "metadata": {},
   "outputs": [
    {
     "data": {
      "text/plain": [
       "0.513792142658122"
      ]
     },
     "execution_count": 38,
     "metadata": {},
     "output_type": "execute_result"
    }
   ],
   "source": [
    "clfL4.score(X_test,Y_test)"
   ]
  },
  {
   "cell_type": "code",
   "execution_count": 39,
   "id": "ambient-token",
   "metadata": {},
   "outputs": [
    {
     "name": "stderr",
     "output_type": "stream",
     "text": [
      "D:\\Anaconda\\lib\\site-packages\\sklearn\\linear_model\\_sag.py:328: ConvergenceWarning: The max_iter was reached which means the coef_ did not converge\n",
      "  warnings.warn(\"The max_iter was reached which means \"\n"
     ]
    }
   ],
   "source": [
    "clfL5 = LogisticRegression(solver='sag',random_state=0).fit(X_train, Y_train)"
   ]
  },
  {
   "cell_type": "code",
   "execution_count": 40,
   "id": "intelligent-chest",
   "metadata": {},
   "outputs": [
    {
     "data": {
      "text/plain": [
       "0.523076387195653"
      ]
     },
     "execution_count": 40,
     "metadata": {},
     "output_type": "execute_result"
    }
   ],
   "source": [
    "clfL5.score(X_train,Y_train)"
   ]
  },
  {
   "cell_type": "code",
   "execution_count": 41,
   "id": "revolutionary-highlight",
   "metadata": {},
   "outputs": [
    {
     "data": {
      "text/plain": [
       "0.523265533574812"
      ]
     },
     "execution_count": 41,
     "metadata": {},
     "output_type": "execute_result"
    }
   ],
   "source": [
    "clfL5.score(X_test,Y_test)"
   ]
  },
  {
   "cell_type": "code",
   "execution_count": null,
   "id": "caring-mount",
   "metadata": {},
   "outputs": [],
   "source": []
  },
  {
   "cell_type": "code",
   "execution_count": null,
   "id": "contained-means",
   "metadata": {},
   "outputs": [],
   "source": []
  },
  {
   "cell_type": "code",
   "execution_count": null,
   "id": "respiratory-philip",
   "metadata": {},
   "outputs": [],
   "source": []
  },
  {
   "cell_type": "markdown",
   "id": "functioning-dryer",
   "metadata": {},
   "source": [
    "### KNN "
   ]
  },
  {
   "cell_type": "code",
   "execution_count": 75,
   "id": "nutritional-harris",
   "metadata": {},
   "outputs": [
    {
     "data": {
      "text/plain": [
       "KNeighborsClassifier(n_neighbors=10)"
      ]
     },
     "execution_count": 75,
     "metadata": {},
     "output_type": "execute_result"
    }
   ],
   "source": [
    "from sklearn.neighbors import KNeighborsClassifier\n",
    "# 10 neighbors\n",
    "neigh = KNeighborsClassifier(n_neighbors=10)\n",
    "neigh.fit(X_train, Y_trainN)"
   ]
  },
  {
   "cell_type": "code",
   "execution_count": 76,
   "id": "smooth-organ",
   "metadata": {},
   "outputs": [
    {
     "data": {
      "text/plain": [
       "0.6355149952976419"
      ]
     },
     "execution_count": 76,
     "metadata": {},
     "output_type": "execute_result"
    }
   ],
   "source": [
    "neigh.score(X_train,Y_trainN)"
   ]
  },
  {
   "cell_type": "code",
   "execution_count": 78,
   "id": "careful-scientist",
   "metadata": {},
   "outputs": [
    {
     "data": {
      "text/plain": [
       "0.4419058233491223"
      ]
     },
     "execution_count": 78,
     "metadata": {},
     "output_type": "execute_result"
    }
   ],
   "source": [
    "neigh.score(X_test,Y_testN)"
   ]
  },
  {
   "cell_type": "code",
   "execution_count": 79,
   "id": "neutral-fever",
   "metadata": {},
   "outputs": [
    {
     "data": {
      "text/plain": [
       "KNeighborsClassifier(n_neighbors=20)"
      ]
     },
     "execution_count": 79,
     "metadata": {},
     "output_type": "execute_result"
    }
   ],
   "source": [
    "# 120 neighbors\n",
    "neigh1 = KNeighborsClassifier(n_neighbors=20)\n",
    "neigh1.fit(X_train, Y_trainN)"
   ]
  },
  {
   "cell_type": "code",
   "execution_count": 80,
   "id": "residential-sending",
   "metadata": {},
   "outputs": [
    {
     "data": {
      "text/plain": [
       "0.5700999686509457"
      ]
     },
     "execution_count": 80,
     "metadata": {},
     "output_type": "execute_result"
    }
   ],
   "source": [
    "neigh1.score(X_train,Y_trainN)"
   ]
  },
  {
   "cell_type": "code",
   "execution_count": 81,
   "id": "duplicate-speed",
   "metadata": {},
   "outputs": [
    {
     "data": {
      "text/plain": [
       "0.4442741710782948"
      ]
     },
     "execution_count": 81,
     "metadata": {},
     "output_type": "execute_result"
    }
   ],
   "source": [
    "neigh1.score(X_test,Y_testN)"
   ]
  },
  {
   "cell_type": "markdown",
   "id": "ethical-subscriber",
   "metadata": {},
   "source": [
    "### Best training result "
   ]
  },
  {
   "cell_type": "code",
   "execution_count": 134,
   "id": "developed-greene",
   "metadata": {},
   "outputs": [
    {
     "data": {
      "text/html": [
       "<style>#sk-container-id-1 {color: black;background-color: white;}#sk-container-id-1 pre{padding: 0;}#sk-container-id-1 div.sk-toggleable {background-color: white;}#sk-container-id-1 label.sk-toggleable__label {cursor: pointer;display: block;width: 100%;margin-bottom: 0;padding: 0.3em;box-sizing: border-box;text-align: center;}#sk-container-id-1 label.sk-toggleable__label-arrow:before {content: \"▸\";float: left;margin-right: 0.25em;color: #696969;}#sk-container-id-1 label.sk-toggleable__label-arrow:hover:before {color: black;}#sk-container-id-1 div.sk-estimator:hover label.sk-toggleable__label-arrow:before {color: black;}#sk-container-id-1 div.sk-toggleable__content {max-height: 0;max-width: 0;overflow: hidden;text-align: left;background-color: #f0f8ff;}#sk-container-id-1 div.sk-toggleable__content pre {margin: 0.2em;color: black;border-radius: 0.25em;background-color: #f0f8ff;}#sk-container-id-1 input.sk-toggleable__control:checked~div.sk-toggleable__content {max-height: 200px;max-width: 100%;overflow: auto;}#sk-container-id-1 input.sk-toggleable__control:checked~label.sk-toggleable__label-arrow:before {content: \"▾\";}#sk-container-id-1 div.sk-estimator input.sk-toggleable__control:checked~label.sk-toggleable__label {background-color: #d4ebff;}#sk-container-id-1 div.sk-label input.sk-toggleable__control:checked~label.sk-toggleable__label {background-color: #d4ebff;}#sk-container-id-1 input.sk-hidden--visually {border: 0;clip: rect(1px 1px 1px 1px);clip: rect(1px, 1px, 1px, 1px);height: 1px;margin: -1px;overflow: hidden;padding: 0;position: absolute;width: 1px;}#sk-container-id-1 div.sk-estimator {font-family: monospace;background-color: #f0f8ff;border: 1px dotted black;border-radius: 0.25em;box-sizing: border-box;margin-bottom: 0.5em;}#sk-container-id-1 div.sk-estimator:hover {background-color: #d4ebff;}#sk-container-id-1 div.sk-parallel-item::after {content: \"\";width: 100%;border-bottom: 1px solid gray;flex-grow: 1;}#sk-container-id-1 div.sk-label:hover label.sk-toggleable__label {background-color: #d4ebff;}#sk-container-id-1 div.sk-serial::before {content: \"\";position: absolute;border-left: 1px solid gray;box-sizing: border-box;top: 0;bottom: 0;left: 50%;z-index: 0;}#sk-container-id-1 div.sk-serial {display: flex;flex-direction: column;align-items: center;background-color: white;padding-right: 0.2em;padding-left: 0.2em;position: relative;}#sk-container-id-1 div.sk-item {position: relative;z-index: 1;}#sk-container-id-1 div.sk-parallel {display: flex;align-items: stretch;justify-content: center;background-color: white;position: relative;}#sk-container-id-1 div.sk-item::before, #sk-container-id-1 div.sk-parallel-item::before {content: \"\";position: absolute;border-left: 1px solid gray;box-sizing: border-box;top: 0;bottom: 0;left: 50%;z-index: -1;}#sk-container-id-1 div.sk-parallel-item {display: flex;flex-direction: column;z-index: 1;position: relative;background-color: white;}#sk-container-id-1 div.sk-parallel-item:first-child::after {align-self: flex-end;width: 50%;}#sk-container-id-1 div.sk-parallel-item:last-child::after {align-self: flex-start;width: 50%;}#sk-container-id-1 div.sk-parallel-item:only-child::after {width: 0;}#sk-container-id-1 div.sk-dashed-wrapped {border: 1px dashed gray;margin: 0 0.4em 0.5em 0.4em;box-sizing: border-box;padding-bottom: 0.4em;background-color: white;}#sk-container-id-1 div.sk-label label {font-family: monospace;font-weight: bold;display: inline-block;line-height: 1.2em;}#sk-container-id-1 div.sk-label-container {text-align: center;}#sk-container-id-1 div.sk-container {/* jupyter's `normalize.less` sets `[hidden] { display: none; }` but bootstrap.min.css set `[hidden] { display: none !important; }` so we also need the `!important` here to be able to override the default hidden behavior on the sphinx rendered scikit-learn.org. See: https://github.com/scikit-learn/scikit-learn/issues/21755 */display: inline-block !important;position: relative;}#sk-container-id-1 div.sk-text-repr-fallback {display: none;}</style><div id=\"sk-container-id-1\" class=\"sk-top-container\"><div class=\"sk-text-repr-fallback\"><pre>KNeighborsClassifier(n_neighbors=3)</pre><b>In a Jupyter environment, please rerun this cell to show the HTML representation or trust the notebook. <br />On GitHub, the HTML representation is unable to render, please try loading this page with nbviewer.org.</b></div><div class=\"sk-container\" hidden><div class=\"sk-item\"><div class=\"sk-estimator sk-toggleable\"><input class=\"sk-toggleable__control sk-hidden--visually\" id=\"sk-estimator-id-1\" type=\"checkbox\" checked><label for=\"sk-estimator-id-1\" class=\"sk-toggleable__label sk-toggleable__label-arrow\">KNeighborsClassifier</label><div class=\"sk-toggleable__content\"><pre>KNeighborsClassifier(n_neighbors=3)</pre></div></div></div></div></div>"
      ],
      "text/plain": [
       "KNeighborsClassifier(n_neighbors=3)"
      ]
     },
     "execution_count": 134,
     "metadata": {},
     "output_type": "execute_result"
    }
   ],
   "source": [
    "# 3 neighbors\n",
    "from sklearn.neighbors import KNeighborsClassifier\n",
    "neigh2 = KNeighborsClassifier(n_neighbors=3)\n",
    "neigh2.fit(X_train, Y_trainN)"
   ]
  },
  {
   "cell_type": "code",
   "execution_count": 35,
   "id": "altered-tennis",
   "metadata": {},
   "outputs": [
    {
     "data": {
      "text/plain": [
       "0.8312375909993381"
      ]
     },
     "execution_count": 35,
     "metadata": {},
     "output_type": "execute_result"
    }
   ],
   "source": [
    "neigh2.score(X_train,Y_trainN)"
   ]
  },
  {
   "cell_type": "code",
   "execution_count": 36,
   "id": "inside-leadership",
   "metadata": {},
   "outputs": [
    {
     "data": {
      "text/plain": [
       "0.4506826414042909"
      ]
     },
     "execution_count": 36,
     "metadata": {},
     "output_type": "execute_result"
    }
   ],
   "source": [
    "neigh2.score(X_test,Y_testN)"
   ]
  },
  {
   "cell_type": "code",
   "execution_count": 37,
   "id": "cd36f6bb",
   "metadata": {},
   "outputs": [
    {
     "name": "stderr",
     "output_type": "stream",
     "text": [
      "D:\\Anaconda\\lib\\site-packages\\sklearn\\utils\\deprecation.py:87: FutureWarning: Function plot_confusion_matrix is deprecated; Function `plot_confusion_matrix` is deprecated in 1.0 and will be removed in 1.2. Use one of the class methods: ConfusionMatrixDisplay.from_predictions or ConfusionMatrixDisplay.from_estimator.\n",
      "  warnings.warn(msg, category=FutureWarning)\n"
     ]
    },
    {
     "data": {
      "image/png": "[encoded data removed]",
      "text/plain": [
       "<Figure size 640x480 with 2 Axes>"
      ]
     },
     "metadata": {},
     "output_type": "display_data"
    }
   ],
   "source": [
    "plot_confusion_matrix(neigh2, X_train,Y_trainN)  \n",
    "plt.show()"
   ]
  },
  {
   "cell_type": "code",
   "execution_count": 38,
   "id": "1c93584f",
   "metadata": {},
   "outputs": [
    {
     "name": "stderr",
     "output_type": "stream",
     "text": [
      "D:\\Anaconda\\lib\\site-packages\\sklearn\\utils\\deprecation.py:87: FutureWarning: Function plot_confusion_matrix is deprecated; Function `plot_confusion_matrix` is deprecated in 1.0 and will be removed in 1.2. Use one of the class methods: ConfusionMatrixDisplay.from_predictions or ConfusionMatrixDisplay.from_estimator.\n",
      "  warnings.warn(msg, category=FutureWarning)\n"
     ]
    },
    {
     "data": {
      "image/png": "[encoded data removed]",
      "text/plain": [
       "<Figure size 640x480 with 2 Axes>"
      ]
     },
     "metadata": {},
     "output_type": "display_data"
    }
   ],
   "source": [
    "plot_confusion_matrix(neigh2, X_test,Y_testN)  \n",
    "plt.show()"
   ]
  },
  {
   "cell_type": "code",
   "execution_count": null,
   "id": "998a638b",
   "metadata": {},
   "outputs": [],
   "source": []
  },
  {
   "cell_type": "code",
   "execution_count": 88,
   "id": "romantic-engagement",
   "metadata": {},
   "outputs": [
    {
     "data": {
      "text/plain": [
       "KNeighborsClassifier()"
      ]
     },
     "execution_count": 88,
     "metadata": {},
     "output_type": "execute_result"
    }
   ],
   "source": [
    "# 5 neighbors\n",
    "neigh3 = KNeighborsClassifier(n_neighbors=5)\n",
    "neigh3.fit(X_train, Y_trainN)"
   ]
  },
  {
   "cell_type": "code",
   "execution_count": 89,
   "id": "broadband-agency",
   "metadata": {},
   "outputs": [
    {
     "data": {
      "text/plain": [
       "0.7363196210247658"
      ]
     },
     "execution_count": 89,
     "metadata": {},
     "output_type": "execute_result"
    }
   ],
   "source": [
    "neigh3.score(X_train,Y_trainN)"
   ]
  },
  {
   "cell_type": "code",
   "execution_count": 90,
   "id": "private-protocol",
   "metadata": {},
   "outputs": [
    {
     "data": {
      "text/plain": [
       "0.44413485650599055"
      ]
     },
     "execution_count": 90,
     "metadata": {},
     "output_type": "execute_result"
    }
   ],
   "source": [
    "neigh3.score(X_test,Y_testN)"
   ]
  },
  {
   "cell_type": "markdown",
   "id": "premier-jacob",
   "metadata": {},
   "source": [
    "## CNN"
   ]
  },
  {
   "cell_type": "code",
   "execution_count": 132,
   "id": "cathedral-ownership",
   "metadata": {},
   "outputs": [],
   "source": [
    "# Change labels to int\n",
    "path = 'FER2013/train/'\n",
    "files = os.listdir(path)  \n",
    "num = len(files)  \n",
    "num_catrgories = np.zeros(num)\n",
    "labels = []\n",
    "icategory = 0\n",
    "# Gain name of categories and number of instances in each class\n",
    "for file in os.listdir(path):\n",
    "    # Get folders of each categories\n",
    "    subfolder = os.path.join(path, file)\n",
    "    files = os.listdir(subfolder)  \n",
    "    num_catrgories[icategory] = len(files)\n",
    "    labels.append(file)\n",
    "    icategory += 1\n",
    "num_catrgories = num_catrgories.astype(int)\n",
    "\n",
    "Y_trainN = []\n",
    "classnum = 0\n",
    "for label in labels:\n",
    "    for num_instances in range(0,num_catrgories[classnum]):\n",
    "        Y_trainN.append(labels.index(label))\n",
    "    classnum += 1"
   ]
  },
  {
   "cell_type": "code",
   "execution_count": 133,
   "id": "protective-algebra",
   "metadata": {},
   "outputs": [],
   "source": [
    "path = 'FER2013/test/'\n",
    "files = os.listdir(path)  \n",
    "num = len(files)  \n",
    "num_catrgories = np.zeros(num)\n",
    "labels = []\n",
    "icategory = 0\n",
    "# Gain name of categories and number of instances in each class\n",
    "for file in os.listdir(path):\n",
    "    # Get folders of each categories\n",
    "    subfolder = os.path.join(path, file)\n",
    "    files = os.listdir(subfolder)  \n",
    "    num_catrgories[icategory] = len(files)\n",
    "    labels.append(file)\n",
    "    icategory += 1\n",
    "num_catrgories = num_catrgories.astype(int)\n",
    "\n",
    "Y_testN = []\n",
    "classnum = 0\n",
    "for label in labels:\n",
    "    for num_instances in range(0,num_catrgories[classnum]):\n",
    "        Y_testN.append(labels.index(label))\n",
    "    classnum += 1"
   ]
  },
  {
   "cell_type": "code",
   "execution_count": 65,
   "id": "hindu-winner",
   "metadata": {
    "collapsed": true
   },
   "outputs": [
    {
     "ename": "IndexError",
     "evalue": "tuple index out of range",
     "output_type": "error",
     "traceback": [
      "\u001b[1;31m---------------------------------------------------------------------------\u001b[0m",
      "\u001b[1;31mIndexError\u001b[0m                                Traceback (most recent call last)",
      "\u001b[1;32m<ipython-input-65-8b16feb9d867>\u001b[0m in \u001b[0;36m<module>\u001b[1;34m\u001b[0m\n\u001b[0;32m      4\u001b[0m \u001b[1;32mfrom\u001b[0m \u001b[0mkeras\u001b[0m\u001b[1;33m.\u001b[0m\u001b[0mregularizers\u001b[0m \u001b[1;32mimport\u001b[0m \u001b[0ml2\u001b[0m\u001b[1;33m\u001b[0m\u001b[1;33m\u001b[0m\u001b[0m\n\u001b[0;32m      5\u001b[0m \u001b[1;33m\u001b[0m\u001b[0m\n\u001b[1;32m----> 6\u001b[1;33m \u001b[0mn_timesteps\u001b[0m\u001b[1;33m,\u001b[0m \u001b[0mn_features\u001b[0m\u001b[1;33m,\u001b[0m \u001b[0mn_outputs\u001b[0m \u001b[1;33m=\u001b[0m \u001b[0mX_train\u001b[0m\u001b[1;33m.\u001b[0m\u001b[0mshape\u001b[0m\u001b[1;33m[\u001b[0m\u001b[1;36m1\u001b[0m\u001b[1;33m]\u001b[0m\u001b[1;33m,\u001b[0m \u001b[0mX_train\u001b[0m\u001b[1;33m.\u001b[0m\u001b[0mshape\u001b[0m\u001b[1;33m[\u001b[0m\u001b[1;36m2\u001b[0m\u001b[1;33m]\u001b[0m\u001b[1;33m,\u001b[0m \u001b[1;36m7\u001b[0m\u001b[1;33m\u001b[0m\u001b[1;33m\u001b[0m\u001b[0m\n\u001b[0m\u001b[0;32m      7\u001b[0m \u001b[0mmodel\u001b[0m \u001b[1;33m=\u001b[0m \u001b[0mSequential\u001b[0m\u001b[1;33m(\u001b[0m\u001b[1;33m)\u001b[0m\u001b[1;33m\u001b[0m\u001b[1;33m\u001b[0m\u001b[0m\n\u001b[0;32m      8\u001b[0m \u001b[0mmodel\u001b[0m\u001b[1;33m.\u001b[0m\u001b[0madd\u001b[0m\u001b[1;33m(\u001b[0m\u001b[0mConv1D\u001b[0m\u001b[1;33m(\u001b[0m\u001b[0mfilters\u001b[0m\u001b[1;33m=\u001b[0m\u001b[1;36m64\u001b[0m\u001b[1;33m,\u001b[0m \u001b[0mkernel_size\u001b[0m\u001b[1;33m=\u001b[0m\u001b[1;36m3\u001b[0m\u001b[1;33m,\u001b[0m \u001b[0mactivation\u001b[0m\u001b[1;33m=\u001b[0m\u001b[1;34m'relu'\u001b[0m\u001b[1;33m,\u001b[0m \u001b[0minput_shape\u001b[0m\u001b[1;33m=\u001b[0m\u001b[1;33m(\u001b[0m\u001b[0mn_timesteps\u001b[0m\u001b[1;33m,\u001b[0m\u001b[0mn_features\u001b[0m\u001b[1;33m)\u001b[0m\u001b[1;33m)\u001b[0m\u001b[1;33m)\u001b[0m\u001b[1;33m\u001b[0m\u001b[1;33m\u001b[0m\u001b[0m\n",
      "\u001b[1;31mIndexError\u001b[0m: tuple index out of range"
     ]
    }
   ],
   "source": [
    "from keras.models import Sequential\n",
    "from keras.layers import Conv1D, MaxPooling1D, Activation, Dropout, Flatten, Dense\n",
    "from keras.optimizers import Adam\n",
    "from keras.regularizers import l2\n",
    "\n",
    "n_timesteps, n_features, n_outputs = X_train.shape[1], X_train.shape[2], 7\n",
    "model = Sequential()\n",
    "model.add(Conv1D(filters=64, kernel_size=3, activation='relu', input_shape=(n_timesteps,n_features)))\n",
    "model.add(Conv1D(filters=64, kernel_size=3, activation='relu'))\n",
    "model.add(Dropout(0.5))\n",
    "model.add(MaxPooling1D(pool_size=2))\n",
    "model.add(Flatten())\n",
    "model.add(Dense(100, activation='relu'))\n",
    "model.add(Dense(n_outputs, activation='softmax'))\n",
    "model.compile(loss='categorical_crossentropy', optimizer='adam', metrics=['accuracy'])"
   ]
  },
  {
   "cell_type": "code",
   "execution_count": 67,
   "id": "major-future",
   "metadata": {},
   "outputs": [
    {
     "data": {
      "text/plain": [
       "28709"
      ]
     },
     "execution_count": 67,
     "metadata": {},
     "output_type": "execute_result"
    }
   ],
   "source": [
    "X_train.shape[0]"
   ]
  },
  {
   "cell_type": "code",
   "execution_count": null,
   "id": "valuable-warren",
   "metadata": {},
   "outputs": [],
   "source": []
  },
  {
   "cell_type": "markdown",
   "id": "freelance-springfield",
   "metadata": {},
   "source": [
    "### Find most similar face "
   ]
  },
  {
   "cell_type": "code",
   "execution_count": 58,
   "id": "communist-delaware",
   "metadata": {},
   "outputs": [],
   "source": [
    "from deepface import DeepFace"
   ]
  },
  {
   "cell_type": "code",
   "execution_count": 54,
   "id": "geological-fundamental",
   "metadata": {},
   "outputs": [
    {
     "data": {
      "text/plain": [
       "-1"
      ]
     },
     "execution_count": 54,
     "metadata": {},
     "output_type": "execute_result"
    }
   ],
   "source": [
    "# Target image\n",
    "img_Target = cv2.imread('FER2013/test/neutral/PrivateTest_10086748.jpg')\n",
    "cv2.imshow('Target Image',img_Target)\n",
    "cv2.waitKey()"
   ]
  },
  {
   "cell_type": "code",
   "execution_count": 55,
   "id": "african-health",
   "metadata": {},
   "outputs": [],
   "source": [
    "path_s = 'FER2013/train/angry/'\n",
    "files = os.listdir(path_s)  \n",
    "num_s = len(files)  "
   ]
  },
  {
   "cell_type": "code",
   "execution_count": 56,
   "id": "336a8823",
   "metadata": {},
   "outputs": [],
   "source": [
    "similarities = np.zeros(num_s)"
   ]
  },
  {
   "cell_type": "markdown",
   "id": "058007e7",
   "metadata": {},
   "source": [
    "### Problem: FER2013 Can not detect face "
   ]
  },
  {
   "cell_type": "code",
   "execution_count": 59,
   "id": "3c2475a5",
   "metadata": {},
   "outputs": [],
   "source": [
    "i_image = 0\n",
    "for image in files:\n",
    "    compare_img = os.path.join(path_s,image)\n",
    "    result = DeepFace.verify(img_Target,compare_img,enforce_detection=False)\n",
    "    similarities[i_image] = result['distance']\n",
    "    i_image += 1"
   ]
  },
  {
   "cell_type": "markdown",
   "id": "1dc63867",
   "metadata": {},
   "source": [
    "### Problem: nan value \n",
    "Face could not be detected. Please confirm that the picture is a face photo or consider to set enforce_detection param to False."
   ]
  },
  {
   "cell_type": "markdown",
   "id": "865194c5",
   "metadata": {},
   "source": [
    "Future work: just compare similarity of the facial features"
   ]
  },
  {
   "cell_type": "code",
   "execution_count": 65,
   "id": "71f7ea4b",
   "metadata": {},
   "outputs": [],
   "source": [
    "similarities_m = np.nan_to_num(similarities,nan=1)"
   ]
  },
  {
   "cell_type": "code",
   "execution_count": 72,
   "id": "70ba6fe9",
   "metadata": {},
   "outputs": [],
   "source": [
    "similarities_min = np.nan_to_num(similarities,nan=0)"
   ]
  },
  {
   "cell_type": "code",
   "execution_count": 66,
   "id": "ef343a20",
   "metadata": {},
   "outputs": [],
   "source": [
    "mostsimilar = np.argmin(similarities_m)"
   ]
  },
  {
   "cell_type": "code",
   "execution_count": 73,
   "id": "5dd1b8b3",
   "metadata": {},
   "outputs": [
    {
     "data": {
      "text/plain": [
       "'Training_98565517.jpg'"
      ]
     },
     "execution_count": 73,
     "metadata": {},
     "output_type": "execute_result"
    }
   ],
   "source": [
    "mostunsimilar = np.argmax(similarities_min)\n",
    "files[mostunsimilar]"
   ]
  },
  {
   "cell_type": "code",
   "execution_count": 67,
   "id": "397a1a37",
   "metadata": {},
   "outputs": [
    {
     "data": {
      "text/plain": [
       "'Training_90926247.jpg'"
      ]
     },
     "execution_count": 67,
     "metadata": {},
     "output_type": "execute_result"
    }
   ],
   "source": [
    "# Most similar image\n",
    "files[mostsimilar]"
   ]
  },
  {
   "cell_type": "code",
   "execution_count": 68,
   "id": "9c5cd06d",
   "metadata": {},
   "outputs": [
    {
     "data": {
      "text/plain": [
       "{'verified': True,\n",
       " 'distance': 0.18277765350630215,\n",
       " 'threshold': 0.4,\n",
       " 'model': 'VGG-Face',\n",
       " 'detector_backend': 'opencv',\n",
       " 'similarity_metric': 'cosine'}"
      ]
     },
     "execution_count": 68,
     "metadata": {},
     "output_type": "execute_result"
    }
   ],
   "source": [
    "DeepFace.verify(img_Target,'FER2013/train/angry/Training_90926247.jpg',enforce_detection=False)"
   ]
  },
  {
   "cell_type": "code",
   "execution_count": 71,
   "id": "b365b481",
   "metadata": {},
   "outputs": [],
   "source": [
    "from PIL import Image\n",
    "im = Image.open(\"FER2013/test/neutral/PrivateTest_10086748.jpg\")\n",
    "im = im.save(\"ImageP/targetImage.jpg\")"
   ]
  },
  {
   "cell_type": "code",
   "execution_count": 77,
   "id": "1d40c74d",
   "metadata": {},
   "outputs": [
    {
     "data": {
      "text/plain": [
       "{'verified': False,\n",
       " 'distance': 1.0328192355488162,\n",
       " 'threshold': 0.4,\n",
       " 'model': 'VGG-Face',\n",
       " 'detector_backend': 'opencv',\n",
       " 'similarity_metric': 'cosine'}"
      ]
     },
     "execution_count": 77,
     "metadata": {},
     "output_type": "execute_result"
    }
   ],
   "source": [
    "DeepFace.verify(img_Target,'FER2013/train/angry/Training_98565517.jpg',enforce_detection=False)"
   ]
  },
  {
   "cell_type": "code",
   "execution_count": 78,
   "id": "60547ec4",
   "metadata": {},
   "outputs": [],
   "source": [
    "im = Image.open(\"FER2013/train/angry/Training_98565517.jpg\")\n",
    "im = im.save(\"ImageP/mostunsimilarImage.jpg\")"
   ]
  },
  {
   "cell_type": "markdown",
   "id": "c419f5af",
   "metadata": {},
   "source": [
    "### Eye cut"
   ]
  },
  {
   "cell_type": "code",
   "execution_count": 106,
   "id": "0cab467f",
   "metadata": {},
   "outputs": [],
   "source": [
    "from keras_preprocessing.image import ImageDataGenerator, img_to_array, load_img"
   ]
  },
  {
   "cell_type": "code",
   "execution_count": 107,
   "id": "546195a2",
   "metadata": {},
   "outputs": [],
   "source": [
    "face_haar_cascade = cv2.CascadeClassifier(cv2.data.haarcascades + 'haarcascade_frontalface_default.xml')"
   ]
  },
  {
   "cell_type": "code",
   "execution_count": 108,
   "id": "1ebb8cc7",
   "metadata": {},
   "outputs": [],
   "source": [
    "def angle_between(p1, p2):\n",
    "    ang1 = np.arctan2(*p1[::-1])\n",
    "    ang2 = np.arctan2(*p2[::-1])\n",
    "    return np.rad2deg((ang1 - ang2) % (2 * np.pi))\n",
    "def draw_eye(p1,p2,input_img):\n",
    "    center_coordinates = (int((p1[0]+p2[0])/2), int((p1[1]+p2[1])/2))\n",
    "  \n",
    "    axesLength = (int(cv2.norm(p1,p2)*1.2), int(cv2.norm(p1,p2)*0.6))\n",
    "\n",
    "    angle = angle_between(p1,p2)\n",
    "\n",
    "    startAngle = 0\n",
    "\n",
    "    endAngle = 360\n",
    "    color = (255, 255, 255)\n",
    "    thickness = -1\n",
    "\n",
    "    input_img = cv2.ellipse(input_img, center_coordinates, axesLength, angle, startAngle, endAngle, color, thickness)"
   ]
  },
  {
   "cell_type": "code",
   "execution_count": 109,
   "id": "b35439fe",
   "metadata": {},
   "outputs": [],
   "source": [
    "def eye_cut(path):\n",
    "    detector_lm = dlib.get_frontal_face_detector()\n",
    "    predictor_lm = dlib.shape_predictor('shape_predictor_68_face_landmarks.dat')\n",
    "\n",
    "    test_img = cv2.imread(path)\t\n",
    "    gray_img = cv2.cvtColor(test_img, cv2.COLOR_BGR2RGB)\n",
    "    #cv2_imshow(gray_img)\n",
    "\n",
    "    faces_detected = face_haar_cascade.detectMultiScale(gray_img, 1.32, 5)\n",
    "\n",
    "    rects = detector_lm(gray_img, 1)\n",
    "    for rect in rects:\n",
    "        test_img2 = test_img.copy()\n",
    "        test_img3 = test_img.copy()\n",
    "        x = rect.tl_corner().x\n",
    "        y = rect.tl_corner().y\n",
    "        w = rect.width()\n",
    "        h = rect.height()\n",
    "        cv2.rectangle(test_img, (x, y), (x + w, y + h), (255, 0, 0), thickness=3)\n",
    "        roi_gray = gray_img[y:y + w, x:x + h]  # cropping region of interest i.e. face area from  image\n",
    "        roi_gray = cv2.resize(roi_gray, (224, 224))\n",
    "        img_pixels = img_to_array(roi_gray)\n",
    "        img_pixels = np.expand_dims(img_pixels, axis=0)\n",
    "        img_pixels /= 255\n",
    "        '''\n",
    "        predictions = model.predict(img_pixels)\n",
    "\n",
    "          # find max indexed array\n",
    "        max_index = np.argmax(predictions[0])\n",
    "\n",
    "        emotions = ('angry', 'disgust', 'fear', 'happy', 'sad', 'surprise', 'neutral')\n",
    "        predicted_emotion = emotions[max_index]\n",
    "\n",
    "        cv2.putText(test_img, predicted_emotion, (int(x), int(y)), cv2.FONT_HERSHEY_SIMPLEX, 1, (0, 0, 255), 2)\n",
    "        '''\n",
    "\n",
    "        shape = predictor_lm(gray_img, rect)\n",
    "        shape_np = np.zeros((68, 2), dtype=\"int\")\n",
    "        for i in range(0, 68):\n",
    "            shape_np[i] = (shape.part(i).x, shape.part(i).y)\n",
    "        shape = shape_np\n",
    "\n",
    "            # Display the landmarks\n",
    "        for i, (x, y) in enumerate(shape):\n",
    "            # Draw the circle to mark the keypoint \n",
    "            cv2.circle(test_img, (x, y), 1, (0, 0, 255), -1)\n",
    "        eyel_l = shape[36]\n",
    "        eyel_r = shape[39]\n",
    "        eyer_l = shape[42]\n",
    "        eyer_r = shape[45]\n",
    "        mask_le = np.zeros(test_img2.shape, dtype=np.uint8)\n",
    "        mask_re = np.zeros(test_img2.shape, dtype=np.uint8)\n",
    "        draw_eye(eyel_l,eyel_r,mask_le)\n",
    "        draw_eye(eyer_l,eyer_r,mask_re)\n",
    "    # Displaying the image\n",
    "        eyel_l1 = eyel_l\n",
    "        eyel_r1 = eyel_r\n",
    "        eyer_l1 = eyer_l\n",
    "        eyer_r1 = eyer_r\n",
    "        masked_image = cv2.bitwise_and(test_img2,mask_le)\n",
    "        #cv2.imshow('masked_image',masked_image)\n",
    "        masked_image2 = cv2.bitwise_and(test_img2,mask_re)\n",
    "        #cv2.imshow('masked_image2',masked_image2)  \n",
    "\n",
    "        dst = cv2.addWeighted(masked_image, 0.5, masked_image2, 0.5, 0)\n",
    "        #cv2.imshow('dst',dst)  \n",
    "        #cv2.waitKey()\n",
    "        #cv2.destroyAllWindows()\n",
    "      #resized_img = cv2.resize(test_img, (400, 400))\n",
    "\n",
    "      #cv2_imshow(resized_img)\n",
    "    return (eyel_l1,eyel_r1,eyer_l1,eyer_r1,masked_image,masked_image2)"
   ]
  },
  {
   "cell_type": "markdown",
   "id": "c5b97445",
   "metadata": {},
   "source": [
    "### Eye replacement "
   ]
  },
  {
   "cell_type": "code",
   "execution_count": 110,
   "id": "942910ac",
   "metadata": {},
   "outputs": [],
   "source": [
    "detector_lm = dlib.get_frontal_face_detector()\n",
    "predictor_lm = dlib.shape_predictor('shape_predictor_68_face_landmarks.dat')"
   ]
  },
  {
   "cell_type": "code",
   "execution_count": 111,
   "id": "bc14e7f3",
   "metadata": {},
   "outputs": [],
   "source": [
    "def eye_replace(path1,path2):\n",
    "    test_img = cv2.imread(path1)\t\n",
    "    gray_img = cv2.cvtColor(test_img, cv2.COLOR_BGR2RGB)\n",
    "    #cv2.imshow(test_img)\n",
    "\n",
    "    faces_detected = face_haar_cascade.detectMultiScale(gray_img, 1.32, 5)\n",
    "\n",
    "\n",
    "    eyel_l1,eyel_r1,eyer_l1,eyer_r1,masked_image,masked_image2 = eye_cut(path2)\n",
    "\n",
    "    rects = detector_lm(gray_img, 1)\n",
    "    for rect in rects:\n",
    "        test_img2 = test_img.copy()\n",
    "        x = rect.tl_corner().x\n",
    "        y = rect.tl_corner().y\n",
    "        w = rect.width()\n",
    "        h = rect.height()\n",
    "        cv2.rectangle(test_img, (x, y), (x + w, y + h), (255, 0, 0), thickness=3)\n",
    "        roi_gray = gray_img[y:y + w, x:x + h]  # cropping region of interest i.e. face area from  image\n",
    "        roi_gray = cv2.resize(roi_gray, (224, 224))\n",
    "        img_pixels = img_to_array(roi_gray)\n",
    "        img_pixels = np.expand_dims(img_pixels, axis=0)\n",
    "        img_pixels /= 255\n",
    "        '''\n",
    "        predictions = model.predict(img_pixels)\n",
    "\n",
    "          # find max indexed array\n",
    "        max_index = np.argmax(predictions[0])\n",
    "\n",
    "        emotions = ('angry', 'disgust', 'fear', 'happy', 'sad', 'surprise', 'neutral')\n",
    "        predicted_emotion = emotions[max_index]\n",
    "\n",
    "        cv2.putText(test_img, predicted_emotion, (int(x), int(y)), cv2.FONT_HERSHEY_SIMPLEX, 1, (0, 0, 255), 2)\n",
    "        '''\n",
    "\n",
    "        shape = predictor_lm(gray_img, rect)\n",
    "        \n",
    "        shape_np = np.zeros((68, 2), dtype=\"int\")\n",
    "        for i in range(0, 68):\n",
    "            shape_np[i] = (shape.part(i).x, shape.part(i).y)\n",
    "        shape = shape_np\n",
    "\n",
    "        # Display the landmarks\n",
    "        for i, (x, y) in enumerate(shape):\n",
    "            # Draw the circle to mark the keypoint \n",
    "            cv2.circle(test_img, (x, y), 1, (0, 0, 255), -1)\n",
    "        eyel_l = shape[36]\n",
    "        eyel_r = shape[39]\n",
    "        eyer_l = shape[42]\n",
    "        eyer_r = shape[45]\n",
    "\n",
    "        el_scaling = (cv2.norm(eyel_l,eyel_r) / cv2.norm(eyel_l1,eyel_r1))\n",
    "        print(el_scaling)\n",
    "\n",
    "        masked_imagel = masked_image.copy() \n",
    "        print(masked_image.shape[1]/test_img.shape[1])\n",
    "        print(eyel_l[0]/test_img.shape[1])\n",
    "        print(eyel_l1[0]/masked_image.shape[1])\n",
    "        print(eyel_r[0]/test_img.shape[1])\n",
    "        print(eyel_r1[0]/masked_image.shape[1])\n",
    "\n",
    "        width = int(masked_imagel.shape[1] * el_scaling)\n",
    "        height = int(masked_imagel.shape[0] * el_scaling)\n",
    "        dim = (width, height)\n",
    "\n",
    "    # resize image\n",
    "        masked_imagel = cv2.resize(masked_imagel, dim, interpolation = cv2.INTER_AREA)\n",
    "\n",
    "        mat_notrans=np.float32([[1,0,(eyel_l[0]-eyel_l1[0]*(el_scaling)+eyel_r[0]-eyel_r1[0]*(el_scaling))/2],[0,1,(eyel_l[1]-eyel_l1[1]*(el_scaling)+eyel_r[1]-eyel_r1[1]*(el_scaling))/2]])\n",
    "\n",
    "        masked_imagel=cv2.warpAffine(masked_imagel,mat_notrans,(test_img.shape[1],test_img.shape[0]))\n",
    "\n",
    "        print(masked_imagel.shape)\n",
    "        #cv2_imshow(masked_imagel)\n",
    "\n",
    "        gray_eyel = cv2.cvtColor(masked_imagel, cv2.COLOR_BGR2GRAY)\n",
    "        # make mask by thresholding sky image, antialias, convert to float in range 0 to 1 and make 3 channels\n",
    "        mask_eyel = cv2.threshold(gray_eyel, 0, 255, cv2.THRESH_BINARY+cv2.THRESH_OTSU)[1]\n",
    "        mask_eyel = cv2.GaussianBlur(mask_eyel, (0,0), 2, 2)\n",
    "        mask_eyel[mask_eyel<128] = 0\n",
    "        mask_eyel = mask_eyel.astype(np.float32)/255\n",
    "        mask_eyel = cv2.merge([mask_eyel,mask_eyel,mask_eyel])\n",
    "\n",
    "    # blend and convert back to 8-bit result\n",
    "        result = test_img2 * (1 - mask_eyel) + masked_imagel * mask_eyel\n",
    "        result = result.clip(0,255).astype(np.uint8)  \n",
    "        #cv2_imshow(result)\n",
    "\n",
    "\n",
    "\n",
    "        er_scaling = (cv2.norm(eyer_l,eyer_r) / cv2.norm(eyer_l1,eyer_r1))\n",
    "        print(er_scaling)\n",
    "\n",
    "        masked_imager = masked_image2.copy() \n",
    "        print(masked_image2.shape[1]/test_img.shape[1])\n",
    "        print(eyer_l[0]/test_img.shape[1])\n",
    "        print(eyer_l1[0]/masked_image2.shape[1])\n",
    "        print(eyer_r[0]/test_img.shape[1])\n",
    "        print(eyer_r1[0]/masked_image2.shape[1])\n",
    "\n",
    "        width = int(masked_imager.shape[1] * er_scaling)\n",
    "        height = int(masked_imager.shape[0] * er_scaling)\n",
    "        dim = (width, height)\n",
    "\n",
    "    # resize image\n",
    "        masked_imager = cv2.resize(masked_imager, dim, interpolation = cv2.INTER_AREA)\n",
    "\n",
    "        mat_notrans=np.float32([[1,0,(eyer_l[0]-eyer_l1[0]*(er_scaling)+eyer_r[0]-eyer_r1[0]*(er_scaling))/2],[0,1,(eyer_l[1]-eyer_l1[1]*(er_scaling)+eyer_r[1]-eyer_r1[1]*(er_scaling))/2]])\n",
    "\n",
    "        masked_imager=cv2.warpAffine(masked_imager,mat_notrans,(test_img.shape[1],test_img.shape[0]))\n",
    "\n",
    "        print(masked_imager.shape)\n",
    "        #cv2_imshow(masked_imager)\n",
    "\n",
    "        gray_eyer = cv2.cvtColor(masked_imager, cv2.COLOR_BGR2GRAY)\n",
    "        # make mask by thresholding sky image, antialias, convert to float in range 0 to 1 and make 3 channels\n",
    "        mask_eyer = cv2.threshold(gray_eyer, 0, 255, cv2.THRESH_BINARY+cv2.THRESH_OTSU)[1]\n",
    "        mask_eyer = cv2.GaussianBlur(mask_eyer, (0,0), 2, 2)\n",
    "        mask_eyer[mask_eyer<128] = 0\n",
    "        mask_eyer = mask_eyer.astype(np.float32)/255\n",
    "        mask_eyer = cv2.merge([mask_eyer,mask_eyer,mask_eyer])\n",
    "\n",
    "    # blend and convert back to 8-bit result\n",
    "        result = result * (1 - mask_eyer) + masked_imager * mask_eyer\n",
    "        result = result.clip(0,255).astype(np.uint8)  \n",
    "        cv2.imshow('result',result)\n",
    "        cv2.waitKey()\n",
    "        return result"
   ]
  },
  {
   "cell_type": "code",
   "execution_count": null,
   "id": "f3d4313a",
   "metadata": {},
   "outputs": [],
   "source": []
  },
  {
   "cell_type": "code",
   "execution_count": 47,
   "id": "1dd4f549",
   "metadata": {},
   "outputs": [
    {
     "name": "stdout",
     "output_type": "stream",
     "text": [
      "1.330440901618982\n",
      "1.4170616113744077\n",
      "0.3222748815165877\n",
      "0.38127090301003347\n",
      "0.4265402843601896\n",
      "0.431438127090301\n",
      "(208, 211, 3)\n",
      "1.3617658132983805\n",
      "1.4170616113744077\n",
      "0.5876777251184834\n",
      "0.5183946488294314\n",
      "0.6919431279620853\n",
      "0.568561872909699\n",
      "(208, 211, 3)\n"
     ]
    }
   ],
   "source": [
    "replacedface = eye_replace('test_hreso/test_hreso/sad/download (11).jpg','test_hreso/test_hreso/happy/images (2).jpg')"
   ]
  },
  {
   "cell_type": "code",
   "execution_count": 48,
   "id": "8dbb302e",
   "metadata": {},
   "outputs": [
    {
     "data": {
      "text/plain": [
       "True"
      ]
     },
     "execution_count": 48,
     "metadata": {},
     "output_type": "execute_result"
    }
   ],
   "source": [
    "cv2.imwrite('ImageP/replacedface.jpg',replacedface)"
   ]
  },
  {
   "cell_type": "code",
   "execution_count": 51,
   "id": "0222bdb2",
   "metadata": {},
   "outputs": [],
   "source": [
    "feature_replaced = getfeaturevector('ImageP/replacedface.jpg')"
   ]
  },
  {
   "cell_type": "code",
   "execution_count": 60,
   "id": "b439836e",
   "metadata": {},
   "outputs": [],
   "source": [
    "features_replaced = getfeature(feature_replaced)"
   ]
  },
  {
   "cell_type": "code",
   "execution_count": 73,
   "id": "821cb1a4",
   "metadata": {},
   "outputs": [
    {
     "name": "stdout",
     "output_type": "stream",
     "text": [
      "0.7516305299868064\n",
      "0.705685618729097\n",
      "0.38127090301003347\n",
      "0.3222748815165877\n",
      "0.431438127090301\n",
      "0.4265402843601896\n",
      "(168, 299, 3)\n",
      "0.7343406555183414\n",
      "0.705685618729097\n",
      "0.5183946488294314\n",
      "0.5876777251184834\n",
      "0.568561872909699\n",
      "0.6919431279620853\n",
      "(168, 299, 3)\n"
     ]
    },
    {
     "data": {
      "text/plain": [
       "True"
      ]
     },
     "execution_count": 73,
     "metadata": {},
     "output_type": "execute_result"
    }
   ],
   "source": [
    "replacedface = eye_replace('test_hreso/test_hreso/happy/images (2).jpg','test_hreso/test_hreso/sad/download (11).jpg')\n",
    "cv2.imwrite('ImageP/replacedface1.jpg',replacedface)               "
   ]
  },
  {
   "cell_type": "code",
   "execution_count": 74,
   "id": "3d58c8a1",
   "metadata": {},
   "outputs": [],
   "source": [
    "feature_replaced1 = getfeaturevector('ImageP/replacedface1.jpg')\n",
    "features_replaced1 = getfeature(feature_replaced1)"
   ]
  },
  {
   "cell_type": "code",
   "execution_count": 75,
   "id": "70bb93e5",
   "metadata": {},
   "outputs": [],
   "source": [
    "x = np.zeros([2,272])\n",
    "x[0] = features_replaced\n",
    "x[1] = features_replaced1"
   ]
  },
  {
   "cell_type": "code",
   "execution_count": 76,
   "id": "30eb2ce2",
   "metadata": {},
   "outputs": [
    {
     "data": {
      "text/plain": [
       "array(['disgust', 'happy'], dtype='<U8')"
      ]
     },
     "execution_count": 76,
     "metadata": {},
     "output_type": "execute_result"
    }
   ],
   "source": [
    "clfL3.predict(x)"
   ]
  },
  {
   "cell_type": "markdown",
   "id": "eb3421df",
   "metadata": {},
   "source": [
    "### Cut mouth "
   ]
  },
  {
   "cell_type": "code",
   "execution_count": 18,
   "id": "11e67219",
   "metadata": {},
   "outputs": [],
   "source": [
    "import cv2\n",
    "import dlib\n",
    "import numpy as np"
   ]
  },
  {
   "cell_type": "code",
   "execution_count": 19,
   "id": "3f3b5418",
   "metadata": {},
   "outputs": [],
   "source": [
    "detector = dlib.get_frontal_face_detector()\n",
    "predictor = dlib.shape_predictor('shape_predictor_68_face_landmarks.dat')"
   ]
  },
  {
   "cell_type": "code",
   "execution_count": null,
   "id": "34cb7adb",
   "metadata": {},
   "outputs": [],
   "source": [
    "img = cv2.imread('Image/indoor_002.png')\n",
    "mask = np.zeros(img.shape[0:2], dtype=np.uint8)\n",
    "cv2.drawContours(mask, [shape], -1, (255, 255, 255), -1, cv2.LINE_AA)\n",
    "res = cv2.bitwise_and(img,img,mask = mask)\n",
    "rect = cv2.boundingRect(shape) # returns (x,y,w,h) of the rect\n",
    "cropped = res[rect[1]: rect[1] + rect[3], rect[0]: rect[0] + rect[2]]\n",
    "cv2.imshow(\"Mask\",mask)\n",
    "cv2.imshow(\"Cropped\", cropped )\n",
    "cv2.waitKey(0)\n",
    "cv2.destroyAllWindows()\n",
    "cv2.imwrite('mouth2.jpg', cropped)"
   ]
  },
  {
   "cell_type": "code",
   "execution_count": null,
   "id": "87ece21b",
   "metadata": {},
   "outputs": [],
   "source": [
    "# Import the library OpenCV\n",
    "import cv2\n",
    "  \n",
    "# Import the image\n",
    "file_name = \"mouth2.jpg\"\n",
    "  \n",
    "# Read the image\n",
    "src = cv2.imread(file_name, 1)\n",
    "  \n",
    "# Convert image to image gray\n",
    "tmp = cv2.cvtColor(src, cv2.COLOR_BGR2GRAY)\n",
    "  \n",
    "# Applying thresholding technique\n",
    "_, alpha = cv2.threshold(tmp, 0, 255, cv2.THRESH_BINARY)\n",
    "  \n",
    "# Using cv2.split() to split channels \n",
    "# of coloured image\n",
    "b, g, r = cv2.split(src)\n",
    "  \n",
    "# Making list of Red, Green, Blue\n",
    "# Channels and alpha\n",
    "rgba = [b, g, r, alpha]\n",
    "  \n",
    "# Using cv2.merge() to merge rgba\n",
    "# into a coloured/multi-channeled image\n",
    "dst = cv2.merge(rgba, 4)\n",
    "  \n",
    "# Writing and saving to a new image\n",
    "cv2.imwrite(\"gfg_white.png\", dst)\n"
   ]
  },
  {
   "cell_type": "code",
   "execution_count": null,
   "id": "4885eced",
   "metadata": {},
   "outputs": [],
   "source": [
    "from PIL import Image, ImageDraw, ImageFilter"
   ]
  },
  {
   "cell_type": "code",
   "execution_count": null,
   "id": "8dd16beb",
   "metadata": {},
   "outputs": [],
   "source": [
    "im2 = cv2.imread('Image/indoor_005.png')\n",
    "gray = cv2.cvtColor(im2, cv2.COLOR_BGR2GRAY)\n",
    "    # Detect the face\n",
    "rects = detector(gray, 1)\n",
    "    # Detect landmarks for each face\n",
    "for rect in rects:\n",
    "    # Get the landmark points\n",
    "    shape = predictor(gray, rect)\n",
    "\t# Convert it to the NumPy Array\n",
    "    shape_np = np.zeros((68, 2), dtype=\"int\")\n",
    "    for i in range(0, 68):\n",
    "        shape_np[i] = (shape.part(i).x, shape.part(i).y)\n",
    "    shape = shape_np\n",
    "    #extract mouth\n",
    "    shape = shape[48:68]\n",
    "    # Display the landmarks\n",
    "    for i, (x, y) in enumerate(shape):\n",
    "\t# Draw the circle to mark the keypoint \n",
    "        cv2.circle(im2, (x, y), 1, (0, 0, 255), -1)\n",
    "\t\t\n",
    "    # Display the image\n",
    "cv2.imshow('Landmark Detection', im2)\n",
    "cv2.waitKey()"
   ]
  },
  {
   "cell_type": "code",
   "execution_count": null,
   "id": "8244e8e0",
   "metadata": {},
   "outputs": [],
   "source": [
    "mask_im = Image.new(\"L\", im2.size, 0)\n",
    "draw = ImageDraw.Draw(mask_im)\n",
    "draw.polygon(shape, fill=255)\n",
    "mask_im.show()\n",
    "mask_im.save('mask_circle.jpg', quality=95)"
   ]
  },
  {
   "cell_type": "code",
   "execution_count": null,
   "id": "29f58608",
   "metadata": {},
   "outputs": [],
   "source": [
    "im2 = cv2.imread('Image/indoor_005.png')\n",
    "mask = np.zeros(im2.shape,np.uint8)\n",
    "mask=cv2.fillPoly(mask, pts = [shape], color =(0,255,0))\n",
    "cv2.imwrite('workplace.png',mask)\n",
    "plt.imshow(mask,cmap='gray')"
   ]
  },
  {
   "cell_type": "code",
   "execution_count": null,
   "id": "ccb54755",
   "metadata": {},
   "outputs": [],
   "source": [
    "mask = cv2.imread('gfg_white.png')\n",
    "mask = cv2.resize(mask, im2.shape[1::-1])\n",
    "blendimg=cv2.addWeighted(im2, 1, mask, 0.2, 0)\n",
    "plt.figure(figsize=(10,10))\n",
    "cv2.imwrite('workplace_overlay_mask_opencv_addweighted.png',blendimg)\n",
    "plt.imshow(blendimg)"
   ]
  },
  {
   "cell_type": "code",
   "execution_count": null,
   "id": "7546b8fe",
   "metadata": {},
   "outputs": [],
   "source": [
    "def overlay_image_alpha(img, img_overlay, x, y, alpha_mask):\n",
    "    \"\"\"Overlay `img_overlay` onto `img` at (x, y) and blend using `alpha_mask`.\n",
    "\n",
    "    `alpha_mask` must have same HxW as `img_overlay` and values in range [0, 1].\n",
    "    \"\"\"\n",
    "    # Image ranges\n",
    "    y1, y2 = max(0, y), min(img.shape[0], y + img_overlay.shape[0])\n",
    "    x1, x2 = max(0, x), min(img.shape[1], x + img_overlay.shape[1])\n",
    "\n",
    "    # Overlay ranges\n",
    "    y1o, y2o = max(0, -y), min(img_overlay.shape[0], img.shape[0] - y)\n",
    "    x1o, x2o = max(0, -x), min(img_overlay.shape[1], img.shape[1] - x)\n",
    "\n",
    "    # Exit if nothing to do\n",
    "    if y1 >= y2 or x1 >= x2 or y1o >= y2o or x1o >= x2o:\n",
    "        return\n",
    "\n",
    "    # Blend overlay within the determined ranges\n",
    "    img_crop = img[y1:y2, x1:x2]\n",
    "    img_overlay_crop = img_overlay[y1o:y2o, x1o:x2o]\n",
    "    alpha = alpha_mask[y1o:y2o, x1o:x2o, np.newaxis]\n",
    "    alpha_inv = 1.0 - alpha\n",
    "\n",
    "    img_crop[:] = alpha * img_overlay_crop + alpha_inv * img_crop"
   ]
  },
  {
   "cell_type": "code",
   "execution_count": null,
   "id": "712f15e6",
   "metadata": {},
   "outputs": [],
   "source": [
    "# Prepare inputs\n",
    "x, y = 50, 0\n",
    "img = np.array(Image.open(\"gfg_white.png\"))\n",
    "img_overlay_rgba = np.array(Image.open(\"Image/indoor_005.png\"))\n",
    "img_overlay_rgba = cv2.cvtColor(img_overlay_rgba, cv2.COLOR_RGB2RGBA).copy()\n",
    "# Perform blending\n",
    "alpha_mask = img_overlay_rgba[:, :, 3] / 255.0\n",
    "img_result = img[:, :, :3].copy()\n",
    "img_overlay = img_overlay_rgba[:, :, :3]\n",
    "overlay_image_alpha(img_result, img_overlay, x, y, alpha_mask)\n",
    "\n",
    "# Save result\n",
    "Image.fromarray(img_result).save(\"img_result.jpg\")"
   ]
  },
  {
   "cell_type": "code",
   "execution_count": null,
   "id": "70c3c7e5",
   "metadata": {},
   "outputs": [],
   "source": [
    "s_img = cv2.imread(\"gfg_white.png\")\n",
    "l_img = cv2.imread(\"Image/indoor_005.png\")\n",
    "x_offset = 230\n",
    "y_offset = 314\n",
    "l_img[y_offset:y_offset+s_img.shape[0], x_offset:x_offset+s_img.shape[1]] = s_img\n",
    "cv2.imshow(\"limage\",l_img)\n",
    "cv2.waitKey()"
   ]
  },
  {
   "cell_type": "markdown",
   "id": "5cd5776c",
   "metadata": {},
   "source": [
    "### Use test_hreso images"
   ]
  },
  {
   "cell_type": "code",
   "execution_count": 44,
   "id": "11fba6e4",
   "metadata": {},
   "outputs": [
    {
     "data": {
      "text/plain": [
       "True"
      ]
     },
     "execution_count": 44,
     "metadata": {},
     "output_type": "execute_result"
    }
   ],
   "source": [
    "img1 = cv2.imread('test_hreso/test_hreso/angry/images (7).jpg')\n",
    "gray = cv2.cvtColor(img1, cv2.COLOR_BGR2GRAY)\n",
    "    # Detect the face\n",
    "rects = detector(gray, 1)\n",
    "    # Detect landmarks for each face\n",
    "for rect in rects:\n",
    "    # Get the landmark points\n",
    "    shape = predictor(gray, rect)\n",
    "\t# Convert it to the NumPy Array\n",
    "    shape_np = np.zeros((68, 2), dtype=\"int\")\n",
    "    for i in range(0, 68):\n",
    "        shape_np[i] = (shape.part(i).x, shape.part(i).y)\n",
    "    shape = shape_np\n",
    "    #extract mouth\n",
    "    shape = shape[48:60]\n",
    "    # Display the landmarks\n",
    "    for i, (x, y) in enumerate(shape):\n",
    "\t# Draw the circle to mark the keypoint \n",
    "        cv2.circle(img1, (x, y), 1, (0, 0, 255), -1)\n",
    "\t\t\n",
    "    # Display the image\n",
    "cv2.imshow('Landmark Detection', img1)\n",
    "cv2.waitKey()\n",
    "cv2.imwrite('ImageP/mouth_show.jpg', img1)"
   ]
  },
  {
   "cell_type": "code",
   "execution_count": 45,
   "id": "5d40beb2",
   "metadata": {},
   "outputs": [],
   "source": [
    "img1 = cv2.imread('test_hreso/test_hreso/angry/images (7).jpg')\n",
    "mask = np.zeros(img1.shape[0:2], dtype=np.uint8)\n",
    "cv2.drawContours(mask, [shape], -1, (255, 255, 255), -1, cv2.LINE_AA)\n",
    "res = cv2.bitwise_and(img1,img1,mask = mask)\n",
    "rect = cv2.boundingRect(shape) # returns (x,y,w,h) of the rect\n",
    "cropped = res[rect[1]: rect[1] + rect[3], rect[0]: rect[0] + rect[2]]\n",
    "cv2.imshow(\"Mask\",mask)\n",
    "cv2.imshow(\"Cropped\", cropped )\n",
    "cv2.waitKey(0)\n",
    "cv2.destroyAllWindows()"
   ]
  },
  {
   "cell_type": "code",
   "execution_count": 46,
   "id": "1db3c79f",
   "metadata": {},
   "outputs": [
    {
     "data": {
      "text/plain": [
       "True"
      ]
     },
     "execution_count": 46,
     "metadata": {},
     "output_type": "execute_result"
    }
   ],
   "source": [
    "cv2.imwrite('ImageP/crop_mouth.jpg', cropped)"
   ]
  },
  {
   "cell_type": "code",
   "execution_count": null,
   "id": "f740d2e6",
   "metadata": {},
   "outputs": [],
   "source": [
    "# Import the library OpenCV\n",
    "import cv2\n",
    "  \n",
    "# Import the image\n",
    "file_name = \"ImageP/mouth2.jpg\"\n",
    "  \n",
    "# Read the image\n",
    "src = cv2.imread(file_name, 1)\n",
    "  \n",
    "# Convert image to image gray\n",
    "tmp = cv2.cvtColor(src, cv2.COLOR_BGR2GRAY)\n",
    "  \n",
    "# Applying thresholding technique\n",
    "_, alpha = cv2.threshold(tmp, 0, 255, cv2.THRESH_BINARY)\n",
    "  \n",
    "# Using cv2.split() to split channels \n",
    "# of coloured image\n",
    "b, g, r = cv2.split(src)\n",
    "  \n",
    "# Making list of Red, Green, Blue\n",
    "# Channels and alpha\n",
    "rgba = [b, g, r, alpha]\n",
    "  \n",
    "# Using cv2.merge() to merge rgba\n",
    "# into a coloured/multi-channeled image\n",
    "dst = cv2.merge(rgba, 4)\n",
    "  \n",
    "# Writing and saving to a new image\n",
    "cv2.imwrite(\"ImageP/mouth2M.png\", dst)"
   ]
  },
  {
   "cell_type": "code",
   "execution_count": 76,
   "id": "3b18d151",
   "metadata": {},
   "outputs": [
    {
     "data": {
      "text/plain": [
       "-1"
      ]
     },
     "execution_count": 76,
     "metadata": {},
     "output_type": "execute_result"
    }
   ],
   "source": [
    "img2 = cv2.imread('test_hreso/test_hreso/happy/images (2).jpg')\n",
    "gray = cv2.cvtColor(img2, cv2.COLOR_BGR2GRAY)\n",
    "    # Detect the face\n",
    "rects = detector(gray, 1)\n",
    "    # Detect landmarks for each face\n",
    "for rect in rects:\n",
    "    # Get the landmark points\n",
    "    shape = predictor(gray, rect)\n",
    "\t# Convert it to the NumPy Array\n",
    "    shape_np = np.zeros((68, 2), dtype=\"int\")\n",
    "    for i in range(0, 68):\n",
    "        shape_np[i] = (shape.part(i).x, shape.part(i).y)\n",
    "    shape = shape_np\n",
    "    #extract mouth\n",
    "    shape = shape[48:60]\n",
    "    # Get center\n",
    "    center = np.mean(shape,axis=0,dtype=\"int\")\n",
    "    # Display the landmarks\n",
    "    for i, (x, y) in enumerate(shape):\n",
    "\t# Draw the circle to mark the keypoint \n",
    "        cv2.circle(img2, (x, y), 1, (0, 0, 255), -1)\n",
    "\t\t\n",
    "    # Display the image\n",
    "cv2.imshow('Landmark Detection', img2)\n",
    "cv2.waitKey()"
   ]
  },
  {
   "cell_type": "code",
   "execution_count": 71,
   "id": "0114ffc3",
   "metadata": {},
   "outputs": [
    {
     "data": {
      "text/plain": [
       "True"
      ]
     },
     "execution_count": 71,
     "metadata": {},
     "output_type": "execute_result"
    }
   ],
   "source": [
    "cv2.imwrite('ImageP/DstImage.jpg',img2)"
   ]
  },
  {
   "cell_type": "code",
   "execution_count": 49,
   "id": "7898190f",
   "metadata": {},
   "outputs": [],
   "source": [
    "\n",
    "img1 = cv2.imread('test_hreso/test_hreso/happy/images (2).jpg')\n",
    "mask = np.zeros(img1.shape[0:2], dtype=np.uint8)\n",
    "cv2.drawContours(mask, [shape], -1, (255, 255, 255), -1, cv2.LINE_AA)\n",
    "res = cv2.bitwise_and(img1,img1,mask = mask)\n",
    "rect = cv2.boundingRect(shape) # returns (x,y,w,h) of the rect\n",
    "cropped = res[rect[1]: rect[1] + rect[3], rect[0]: rect[0] + rect[2]]\n",
    "cv2.imshow(\"Mask\",mask)\n",
    "cv2.imshow(\"Cropped\", cropped )\n",
    "cv2.waitKey(0)\n",
    "cv2.destroyAllWindows()"
   ]
  },
  {
   "cell_type": "code",
   "execution_count": 50,
   "id": "571cd11e",
   "metadata": {},
   "outputs": [
    {
     "data": {
      "text/plain": [
       "True"
      ]
     },
     "execution_count": 50,
     "metadata": {},
     "output_type": "execute_result"
    }
   ],
   "source": [
    "cv2.imwrite('ImageP/crop_Tmouth.jpg', cropped)"
   ]
  },
  {
   "cell_type": "code",
   "execution_count": null,
   "id": "51f0cddd",
   "metadata": {},
   "outputs": [],
   "source": [
    "cv2.imwrite('ImageP/mouth_Target.jpg', cropped)\n",
    "# Import the image\n",
    "file_name = \"ImageP/mouth_Target.jpg\"\n",
    "  \n",
    "# Read the image\n",
    "src = cv2.imread(file_name, 1)\n",
    "  \n",
    "# Convert image to image gray\n",
    "tmp = cv2.cvtColor(src, cv2.COLOR_BGR2GRAY)\n",
    "  \n",
    "# Applying thresholding technique\n",
    "_, alpha = cv2.threshold(tmp, 0, 255, cv2.THRESH_BINARY)\n",
    "  \n",
    "# Using cv2.split() to split channels \n",
    "# of coloured image\n",
    "b, g, r = cv2.split(src)\n",
    "  \n",
    "# Making list of Red, Green, Blue\n",
    "# Channels and alpha\n",
    "rgba = [b, g, r, alpha]\n",
    "  \n",
    "# Using cv2.merge() to merge rgba\n",
    "# into a coloured/multi-channeled image\n",
    "dst = cv2.merge(rgba, 4)\n",
    "  \n",
    "# Writing and saving to a new image\n",
    "cv2.imwrite(\"ImageP/mouth1M.png\", dst)"
   ]
  },
  {
   "cell_type": "code",
   "execution_count": null,
   "id": "872517a6",
   "metadata": {},
   "outputs": [],
   "source": [
    "mouth = cv2.imread('ImageP/mouth2M.png')\n",
    "moutht = cv2.imread('ImageP/mouth1M.png')"
   ]
  },
  {
   "cell_type": "code",
   "execution_count": 51,
   "id": "7aa47ced",
   "metadata": {},
   "outputs": [],
   "source": [
    "mouth = cv2.imread('ImageP/crop_mouth.jpg')\n",
    "moutht = cv2.imread('ImageP/crop_Tmouth.jpg')"
   ]
  },
  {
   "cell_type": "code",
   "execution_count": 52,
   "id": "3c448995",
   "metadata": {},
   "outputs": [
    {
     "data": {
      "text/plain": [
       "True"
      ]
     },
     "execution_count": 52,
     "metadata": {},
     "output_type": "execute_result"
    }
   ],
   "source": [
    "# Resize\n",
    "mouth_cut = cv2.resize(mouth, moutht.shape[1::-1])\n",
    "cv2.imwrite('ImageP/mouthCut.png',mouth_cut)"
   ]
  },
  {
   "cell_type": "code",
   "execution_count": null,
   "id": "24472866",
   "metadata": {},
   "outputs": [],
   "source": [
    "l_img1 = cv2.imread(\"test_hreso/test_hreso/happy/images (2).jpg\")\n",
    "s_img1 = cv2.imread('ImageP/cutTrans.png')\n",
    "x_offset =134\n",
    "y_offset = 71\n",
    "l_img1[y_offset:y_offset+s_img1.shape[0], x_offset:x_offset+s_img1.shape[1]] = s_img1\n",
    "cv2.imshow(\"limage\",l_img1)\n",
    "cv2.waitKey()"
   ]
  },
  {
   "cell_type": "code",
   "execution_count": null,
   "id": "68caaa6f",
   "metadata": {},
   "outputs": [],
   "source": [
    "im_a = Image.open('ImageP/mouthCut.png').convert('L')\n",
    "s_img = Image.open('ImageP/mouthCut.png')\n",
    "im_rgba = s_img.copy()\n",
    "im_rgba.putalpha(im_a)\n",
    "im_rgba.save('ImageP/cutTrans.png')"
   ]
  },
  {
   "cell_type": "code",
   "execution_count": null,
   "id": "61a39bc0",
   "metadata": {},
   "outputs": [],
   "source": [
    "l_img1 = cv2.imread(\"test_hreso/test_hreso/happy/images (2).jpg\")\n",
    "s_img = cv2.imread(\"ImageP/cutTrans.png\", -1)\n",
    "\n",
    "y1, y2 = y_offset, y_offset + s_img.shape[0]\n",
    "x1, x2 = x_offset, x_offset + s_img.shape[1]\n",
    "\n",
    "alpha_s = s_img[:, :, 3] / 255.0\n",
    "alpha_l = 1.0 - alpha_s\n",
    "\n",
    "for c in range(0, 3):\n",
    "    l_img[y1:y2, x1:x2, c] = (alpha_s * s_img[:, :, c] +\n",
    "                              alpha_l * l_img[y1:y2, x1:x2, c])\n",
    "cv2.imshow(\"limage\",l_img)\n",
    "cv2.waitKey()\n",
    "cv2.destroyAllWindows()"
   ]
  },
  {
   "cell_type": "code",
   "execution_count": null,
   "id": "4283e15b",
   "metadata": {},
   "outputs": [],
   "source": [
    "x, y = 134, 71\n",
    "img = np.array(Image.open(\"test_hreso/test_hreso/happy/images (2).jpg\"))\n",
    "img_overlay_rgba = np.array(Image.open(\"ImageP/mouthCut.png\"))\n",
    "img_overlay_rgba = cv2.cvtColor(img_overlay_rgba, cv2.COLOR_RGB2RGBA).copy()\n",
    "# Perform blending\n",
    "alpha_mask = img_overlay_rgba[:, :, 3] / 255.0\n",
    "img_result = img[:, :, :3].copy()\n",
    "img_overlay = img_overlay_rgba[:, :, :3]\n",
    "overlay_image_alpha(img_result, img_overlay, x, y, alpha_mask)\n",
    "\n",
    "# Save result\n",
    "Image.fromarray(img_result).save(\"img_result.jpg\")"
   ]
  },
  {
   "cell_type": "code",
   "execution_count": null,
   "id": "cd5559ef",
   "metadata": {},
   "outputs": [],
   "source": [
    "src = cv2.imread(\"ImageP/cutTrans.png\")\n",
    "dst = cv2.imread(\"test_hreso/test_hreso/happy/images (2).jpg\")"
   ]
  },
  {
   "cell_type": "code",
   "execution_count": null,
   "id": "0d62fa5a",
   "metadata": {},
   "outputs": [],
   "source": [
    "mask = np.zeros(src.shape[0:2], dtype=np.uint8)\n",
    "cv2.rectangle(mask, (0,25), (45, 0), 255, -1)\n",
    "cv2.imshow(\"Rectangular Mask\", mask)\n",
    "cv2.waitKey()"
   ]
  },
  {
   "cell_type": "code",
   "execution_count": null,
   "id": "aee5c4ef",
   "metadata": {},
   "outputs": [],
   "source": [
    "output = cv2.seamlessClone(src, dst, mask, center, cv2.NORMAL_CLONE)\n",
    "cv2.imwrite('ImageP/resultFace.png',output)"
   ]
  },
  {
   "cell_type": "code",
   "execution_count": 54,
   "id": "23225c16",
   "metadata": {},
   "outputs": [],
   "source": [
    "# New\n",
    "src = cv2.imread(\"ImageP/mouthCut.png\")\n",
    "dst = cv2.imread(\"test_hreso/test_hreso/happy/images (2).jpg\")"
   ]
  },
  {
   "cell_type": "code",
   "execution_count": 57,
   "id": "b874afe6",
   "metadata": {},
   "outputs": [
    {
     "data": {
      "text/plain": [
       "(26, 46, 3)"
      ]
     },
     "execution_count": 57,
     "metadata": {},
     "output_type": "execute_result"
    }
   ],
   "source": [
    "src.shape"
   ]
  },
  {
   "cell_type": "code",
   "execution_count": 58,
   "id": "be0be59f",
   "metadata": {},
   "outputs": [
    {
     "data": {
      "text/plain": [
       "-1"
      ]
     },
     "execution_count": 58,
     "metadata": {},
     "output_type": "execute_result"
    }
   ],
   "source": [
    "mask = np.zeros(src.shape[0:2], dtype=np.uint8)\n",
    "cv2.rectangle(mask, (0,25), (45, 0), 255, -1)\n",
    "cv2.imshow(\"Rectangular Mask\", mask)\n",
    "cv2.waitKey()"
   ]
  },
  {
   "cell_type": "code",
   "execution_count": 64,
   "id": "4c7394a9",
   "metadata": {},
   "outputs": [
    {
     "data": {
      "text/plain": [
       "array([158,  83])"
      ]
     },
     "execution_count": 64,
     "metadata": {},
     "output_type": "execute_result"
    }
   ],
   "source": [
    "center"
   ]
  },
  {
   "cell_type": "code",
   "execution_count": 79,
   "id": "91c220e6",
   "metadata": {},
   "outputs": [],
   "source": [
    "center = (158,86)"
   ]
  },
  {
   "cell_type": "code",
   "execution_count": 81,
   "id": "5e061751",
   "metadata": {},
   "outputs": [],
   "source": [
    "center = (156,88)"
   ]
  },
  {
   "cell_type": "code",
   "execution_count": 82,
   "id": "3b0ad1cd",
   "metadata": {},
   "outputs": [
    {
     "data": {
      "text/plain": [
       "True"
      ]
     },
     "execution_count": 82,
     "metadata": {},
     "output_type": "execute_result"
    }
   ],
   "source": [
    "output = cv2.seamlessClone(src, dst, mask, center, cv2.NORMAL_CLONE)\n",
    "cv2.imwrite('ImageP/resultFace_adj.png',output)"
   ]
  },
  {
   "cell_type": "code",
   "execution_count": 144,
   "id": "097b1579",
   "metadata": {},
   "outputs": [
    {
     "data": {
      "text/plain": [
       "-1"
      ]
     },
     "execution_count": 144,
     "metadata": {},
     "output_type": "execute_result"
    }
   ],
   "source": [
    "# Landmark detection for output image\n",
    "image = cv2.imread('replaced_eye.png')\n",
    "gray = cv2.cvtColor(image, cv2.COLOR_BGR2GRAY)\n",
    "    # Detect the face\n",
    "rects = detector(gray, 1)\n",
    "    # Detect landmarks for each face\n",
    "for rect in rects:\n",
    "    # Get the landmark points\n",
    "    shape = predictor(gray, rect)\n",
    "\t# Convert it to the NumPy Array\n",
    "    shape_np = np.zeros((68, 2), dtype=\"int\")\n",
    "    for i in range(0, 68):\n",
    "        shape_np[i] = (shape.part(i).x, shape.part(i).y)\n",
    "    shape = shape_np\n",
    "    #extract mouth\n",
    "    #shape = shape[48:68]\n",
    "    # Display the landmarks\n",
    "    for i, (x, y) in enumerate(shape):\n",
    "\t# Draw the circle to mark the keypoint \n",
    "        cv2.circle(image, (x, y), 1, (0, 0, 255), -1)\n",
    "\t\t\n",
    "    # Display the image\n",
    "cv2.imshow('Landmark Detection', image)\n",
    "cv2.waitKey()\n"
   ]
  },
  {
   "cell_type": "markdown",
   "id": "cb21fe10",
   "metadata": {},
   "source": [
    "### Replace eyes "
   ]
  },
  {
   "cell_type": "code",
   "execution_count": 113,
   "id": "d4271595",
   "metadata": {},
   "outputs": [
    {
     "name": "stdout",
     "output_type": "stream",
     "text": [
      "0.7905694150420948\n",
      "1.0033444816053512\n",
      "0.3779264214046823\n",
      "0.39666666666666667\n",
      "0.431438127090301\n",
      "0.47\n",
      "(168, 299, 3)\n",
      "0.7516305299868064\n",
      "1.0033444816053512\n",
      "0.5183946488294314\n",
      "0.5933333333333334\n",
      "0.568561872909699\n",
      "0.6666666666666666\n",
      "(168, 299, 3)\n"
     ]
    }
   ],
   "source": [
    "replacedface = eye_replace('ImageP/resultFace_adj.png','test_hreso/test_hreso/angry/images (7).jpg')"
   ]
  },
  {
   "cell_type": "code",
   "execution_count": 114,
   "id": "634b5de5",
   "metadata": {},
   "outputs": [
    {
     "data": {
      "text/plain": [
       "True"
      ]
     },
     "execution_count": 114,
     "metadata": {},
     "output_type": "execute_result"
    }
   ],
   "source": [
    "cv2.imwrite('replaced_eyemouth.png',replacedface)"
   ]
  },
  {
   "cell_type": "code",
   "execution_count": 115,
   "id": "4592e94e",
   "metadata": {},
   "outputs": [
    {
     "name": "stdout",
     "output_type": "stream",
     "text": [
      "0.7493166285596934\n",
      "1.0033444816053512\n",
      "0.38127090301003347\n",
      "0.39666666666666667\n",
      "0.431438127090301\n",
      "0.47\n",
      "(168, 299, 3)\n",
      "0.733583212660232\n",
      "1.0033444816053512\n",
      "0.5183946488294314\n",
      "0.5933333333333334\n",
      "0.568561872909699\n",
      "0.6666666666666666\n",
      "(168, 299, 3)\n"
     ]
    }
   ],
   "source": [
    "replacedface = eye_replace('test_hreso/test_hreso/happy/images (2).jpg','test_hreso/test_hreso/angry/images (7).jpg')"
   ]
  },
  {
   "cell_type": "code",
   "execution_count": 116,
   "id": "fa60756f",
   "metadata": {},
   "outputs": [
    {
     "data": {
      "text/plain": [
       "True"
      ]
     },
     "execution_count": 116,
     "metadata": {},
     "output_type": "execute_result"
    }
   ],
   "source": [
    "cv2.imwrite('replaced_eye.png',replacedface)"
   ]
  },
  {
   "cell_type": "code",
   "execution_count": 119,
   "id": "a8997d9e",
   "metadata": {},
   "outputs": [],
   "source": [
    "# Testing\n",
    "feature_replacede = getfeaturevector('replaced_eye.png')\n",
    "features_replaced1 = getfeature(feature_replacede)\n",
    "feature_replacedem = getfeaturevector('replaced_eyemouth.png')\n",
    "features_replaced2 = getfeature(feature_replacedem)\n",
    "feature_nonre = getfeaturevector('test_hreso/test_hreso/happy/images (2).jpg')\n",
    "features_replaced3 = getfeature(feature_nonre)"
   ]
  },
  {
   "cell_type": "code",
   "execution_count": 120,
   "id": "4a4f7246",
   "metadata": {},
   "outputs": [],
   "source": [
    "x = np.zeros([3,272])\n",
    "x[0] = features_replaced1\n",
    "x[1] = features_replaced2\n",
    "x[2] = features_replaced3"
   ]
  },
  {
   "cell_type": "code",
   "execution_count": null,
   "id": "c0252756",
   "metadata": {},
   "outputs": [],
   "source": []
  },
  {
   "cell_type": "code",
   "execution_count": null,
   "id": "dab0591e",
   "metadata": {},
   "outputs": [],
   "source": []
  },
  {
   "cell_type": "code",
   "execution_count": 130,
   "id": "8897fc2c",
   "metadata": {},
   "outputs": [
    {
     "data": {
      "text/plain": [
       "array(['happy', 'happy', 'happy'], dtype='<U8')"
      ]
     },
     "execution_count": 130,
     "metadata": {},
     "output_type": "execute_result"
    }
   ],
   "source": [
    "clfL3.predict(x)"
   ]
  },
  {
   "cell_type": "code",
   "execution_count": 135,
   "id": "f2cc5367",
   "metadata": {},
   "outputs": [
    {
     "data": {
      "text/plain": [
       "array([1, 1, 1])"
      ]
     },
     "execution_count": 135,
     "metadata": {},
     "output_type": "execute_result"
    }
   ],
   "source": [
    "neigh2.predict(x)"
   ]
  },
  {
   "cell_type": "code",
   "execution_count": 142,
   "id": "dc1e3f42",
   "metadata": {},
   "outputs": [
    {
     "data": {
      "text/plain": [
       "array(['happy', 'happy', 'happy'], dtype='<U8')"
      ]
     },
     "execution_count": 142,
     "metadata": {},
     "output_type": "execute_result"
    }
   ],
   "source": [
    "clfsP.predict(x)"
   ]
  },
  {
   "cell_type": "markdown",
   "id": "9031ab05",
   "metadata": {
    "hide_input": false
   },
   "source": [
    "### Turn to 300w "
   ]
  },
  {
   "cell_type": "code",
   "execution_count": 31,
   "id": "9ad024ab",
   "metadata": {
    "hide_input": true
   },
   "outputs": [],
   "source": [
    "import zipfile\n",
    "with zipfile.ZipFile('300W.zip', 'r') as zip_ref:\n",
    "    zip_ref.extractall('300W')"
   ]
  },
  {
   "cell_type": "code",
   "execution_count": 32,
   "id": "69185150",
   "metadata": {
    "hide_input": true
   },
   "outputs": [],
   "source": [
    "# Extract png file\n",
    "import os\n",
    "import shutil\n",
    "path = '300W/300W/01_Indoor/'\n",
    "path_list=os.listdir(path)\n",
    "despath = '300WImage/'\n",
    "for filename in path_list:\n",
    "    if os.path.splitext(filename)[1] == '.png':\n",
    "        shutil.copyfile(path+filename,despath+filename)\n"
   ]
  },
  {
   "cell_type": "code",
   "execution_count": 33,
   "id": "06bd3706",
   "metadata": {
    "hide_input": true
   },
   "outputs": [],
   "source": [
    "path = '300W/300W/02_Outdoor/'\n",
    "path_list=os.listdir(path)\n",
    "despath = '300WImage/'\n",
    "for filename in path_list:\n",
    "    if os.path.splitext(filename)[1] == '.png':\n",
    "        shutil.copyfile(path+filename,despath+filename)\n"
   ]
  },
  {
   "cell_type": "code",
   "execution_count": null,
   "id": "68c124fb",
   "metadata": {},
   "outputs": [],
   "source": []
  },
  {
   "cell_type": "code",
   "execution_count": null,
   "id": "5be9d46c",
   "metadata": {},
   "outputs": [],
   "source": []
  }
 ],
 "metadata": {
  "hide_input": false,
  "kernelspec": {
   "display_name": "Python 3 (ipykernel)",
   "language": "python",
   "name": "python3"
  },
  "language_info": {
   "codemirror_mode": {
    "name": "ipython",
    "version": 3
   },
   "file_extension": ".py",
   "mimetype": "text/x-python",
   "name": "python",
   "nbconvert_exporter": "python",
   "pygments_lexer": "ipython3",
   "version": "3.8.13"
  }
 },
 "nbformat": 4,
 "nbformat_minor": 5
}
